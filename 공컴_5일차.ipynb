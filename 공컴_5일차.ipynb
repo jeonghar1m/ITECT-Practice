{
  "nbformat": 4,
  "nbformat_minor": 0,
  "metadata": {
    "colab": {
      "name": "공컴 5일차",
      "provenance": [],
      "collapsed_sections": [],
      "include_colab_link": true
    },
    "kernelspec": {
      "name": "python3",
      "display_name": "Python 3"
    },
    "language_info": {
      "name": "python"
    }
  },
  "cells": [
    {
      "cell_type": "markdown",
      "metadata": {
        "id": "view-in-github",
        "colab_type": "text"
      },
      "source": [
        "<a href=\"https://colab.research.google.com/github/jeonghar1m/ITECT-Practice/blob/main/211231~220103/%EA%B3%B5%EC%BB%B4_5%EC%9D%BC%EC%B0%A8.ipynb\" target=\"_parent\"><img src=\"https://colab.research.google.com/assets/colab-badge.svg\" alt=\"Open In Colab\"/></a>"
      ]
    },
    {
      "cell_type": "markdown",
      "source": [
        "### 공컴 5일차 (반복문)\n",
        "\n",
        "- while: 조건이 참일 때 반복문 수행\n",
        "- for: 정의한 횟수 만큼 반복문 수행\n",
        "- break & continue"
      ],
      "metadata": {
        "id": "NNy3LR82N2GE"
      }
    },
    {
      "cell_type": "markdown",
      "source": [
        "- 1부터 n까지의 합계 구하기  \n",
        "▶ while"
      ],
      "metadata": {
        "id": "yufd-BizXXqt"
      }
    },
    {
      "cell_type": "code",
      "execution_count": null,
      "metadata": {
        "id": "kt5sc9EjNx4q",
        "colab": {
          "base_uri": "https://localhost:8080/"
        },
        "outputId": "2e5a5f09-9ed6-49de-a83c-3c8a1c2f32d9"
      },
      "outputs": [
        {
          "output_type": "stream",
          "name": "stdout",
          "text": [
            "정수를 입력하세요: 5\n",
            "result =  15\n"
          ]
        }
      ],
      "source": [
        "n = int(input(\"정수를 입력하세요: \"))\n",
        "sum = 0\n",
        "i = 0\n",
        "while(i <= n):\n",
        "  sum += i\n",
        "  i += 1\n",
        "\n",
        "print(\"result = \", sum)"
      ]
    },
    {
      "cell_type": "markdown",
      "source": [
        "- 1부터 n까지의 합계 구하기  \n",
        "▶ For"
      ],
      "metadata": {
        "id": "Ak5CdSrRZCE9"
      }
    },
    {
      "cell_type": "code",
      "source": [
        "n = int(input(\"정수를 입력하세요: \"))\n",
        "sum = 0\n",
        "for i in range(1, n + 1):\n",
        "  sum += i\n",
        "\n",
        "print(\"result = \", sum)"
      ],
      "metadata": {
        "id": "QlUH9qEGZMx9",
        "colab": {
          "base_uri": "https://localhost:8080/"
        },
        "outputId": "a9e9daf8-1bb5-40c9-d99c-3bfe93aa71d3"
      },
      "execution_count": null,
      "outputs": [
        {
          "output_type": "stream",
          "name": "stdout",
          "text": [
            "정수를 입력하세요: 5\n",
            "result =  15\n"
          ]
        }
      ]
    },
    {
      "cell_type": "markdown",
      "source": [
        "- 1 부터 100 까지 홀수 출력 (for 문 )"
      ],
      "metadata": {
        "id": "loxG8_Ika8tQ"
      }
    },
    {
      "cell_type": "code",
      "source": [
        "for i in range(1, 101, 2):\n",
        "  print(i)"
      ],
      "metadata": {
        "id": "gC6nx77gbCat",
        "colab": {
          "base_uri": "https://localhost:8080/"
        },
        "outputId": "2f2026ec-1b39-4f34-8225-583c13d0201e"
      },
      "execution_count": null,
      "outputs": [
        {
          "output_type": "stream",
          "name": "stdout",
          "text": [
            "1\n",
            "3\n",
            "5\n",
            "7\n",
            "9\n",
            "11\n",
            "13\n",
            "15\n",
            "17\n",
            "19\n",
            "21\n",
            "23\n",
            "25\n",
            "27\n",
            "29\n",
            "31\n",
            "33\n",
            "35\n",
            "37\n",
            "39\n",
            "41\n",
            "43\n",
            "45\n",
            "47\n",
            "49\n",
            "51\n",
            "53\n",
            "55\n",
            "57\n",
            "59\n",
            "61\n",
            "63\n",
            "65\n",
            "67\n",
            "69\n",
            "71\n",
            "73\n",
            "75\n",
            "77\n",
            "79\n",
            "81\n",
            "83\n",
            "85\n",
            "87\n",
            "89\n",
            "91\n",
            "93\n",
            "95\n",
            "97\n",
            "99\n"
          ]
        }
      ]
    },
    {
      "cell_type": "code",
      "source": [
        "sum = 0\n",
        "for i in range(1, 100 + 1, 2):\n",
        "  sum += i\n",
        "\n",
        "print(\"100까지의 홀수의 합 = \", sum)"
      ],
      "metadata": {
        "colab": {
          "base_uri": "https://localhost:8080/"
        },
        "id": "YQmd67gyMCV-",
        "outputId": "c2418fea-00c2-4382-e3a2-fdca2cb8af02"
      },
      "execution_count": null,
      "outputs": [
        {
          "output_type": "stream",
          "name": "stdout",
          "text": [
            "100까지의 홀수의 합 =  2500\n"
          ]
        }
      ]
    },
    {
      "cell_type": "code",
      "source": [
        "sum = 0\n",
        "i = 1\n",
        "while (i <= 100):\n",
        "  sum += i\n",
        "  i += 2\n",
        "\n",
        "print(\"100까지의 홀수의 합 = \", sum)"
      ],
      "metadata": {
        "id": "BnDkdTnPbOJj",
        "colab": {
          "base_uri": "https://localhost:8080/"
        },
        "outputId": "e02a4a2c-eded-4515-e55c-db4d428f8110"
      },
      "execution_count": null,
      "outputs": [
        {
          "output_type": "stream",
          "name": "stdout",
          "text": [
            "100까지의 홀수의 합 =  2500\n"
          ]
        }
      ]
    },
    {
      "cell_type": "markdown",
      "source": [
        "- 약수 구하기"
      ],
      "metadata": {
        "id": "HBbmNHjQbTkl"
      }
    },
    {
      "cell_type": "code",
      "source": [
        "n = int(input(\"정수를 입력하세요: \"))\n",
        "print(n, \"의 약수\")\n",
        "for i in range(1, n + 1):\n",
        "  if n % i == 0:\n",
        "    print(i, end=' ')"
      ],
      "metadata": {
        "id": "XM9wjKDUbcww",
        "colab": {
          "base_uri": "https://localhost:8080/"
        },
        "outputId": "6f0db12f-84f7-4ff8-a450-518289603bcf"
      },
      "execution_count": null,
      "outputs": [
        {
          "output_type": "stream",
          "name": "stdout",
          "text": [
            "정수를 입력하세요: 27\n",
            "27 의 약수\n",
            "1 3 9 27 "
          ]
        }
      ]
    },
    {
      "cell_type": "markdown",
      "source": [
        "- break & continue  \n",
        "  –  break: 아래 작성된 문장을 실행하지 않고 강제로 종료  \n",
        "–  contiune: 현재 실행중인 나머지 블록을 실행하지 않음"
      ],
      "metadata": {
        "id": "AX5wHXrxb0_P"
      }
    },
    {
      "cell_type": "markdown",
      "source": [
        "- 다음과 같이 출력되도록 코딩하시오.\n",
        "```\n",
        "아무거나 입력하세요: 23455\n",
        "아무거나 입력하세요: 3333333\n",
        "아무거나 입력하세요: 234234\n",
        "아무거나 입력하세요: 2222222\n",
        "아무거나 입력하세요: 111\n",
        "다시 입력하세요\n",
        "아무거나 입력하세요: 2344\n",
        "다시 입력하세요\n",
        "아무거나 입력하세요: quit\n",
        "종료합니다.\n",
        "```"
      ],
      "metadata": {
        "id": "fCVUCDB1cCYI"
      }
    },
    {
      "cell_type": "code",
      "source": [
        "while True:\n",
        "  a = input(\"아무거나 입력하세요: \")\n",
        "  if(a == 'quit'):\n",
        "    print(\"종료합니다.\")\n",
        "    break\n",
        "  elif(len(a) < 5): print(\"다시 입력하세요.\")"
      ],
      "metadata": {
        "colab": {
          "base_uri": "https://localhost:8080/"
        },
        "id": "wxq8er-pVe26",
        "outputId": "dc475c2a-9e17-4eb4-e498-a5d1deb33760"
      },
      "execution_count": null,
      "outputs": [
        {
          "output_type": "stream",
          "name": "stdout",
          "text": [
            "아무거나 입력하세요: 23455\n",
            "아무거나 입력하세요: 3333333\n",
            "아무거나 입력하세요: 234234\n",
            "아무거나 입력하세요: 2222222\n",
            "아무거나 입력하세요: 111\n",
            "다시 입력하세요.\n",
            "아무거나 입력하세요: 2344\n",
            "다시 입력하세요.\n",
            "아무거나 입력하세요: quit\n",
            "종료합니다.\n"
          ]
        }
      ]
    },
    {
      "cell_type": "markdown",
      "source": [
        "# 1월 3일 월요일"
      ],
      "metadata": {
        "id": "p_gSvOuriA1l"
      }
    },
    {
      "cell_type": "markdown",
      "source": [
        "- 다음과 같이 연속해서 합을 구하는 프로그램 작성\n",
        "\n",
        "```\n",
        "첫번째 숫자를 입력: 2\n",
        "두번째 숫자를 입력: 3\n",
        "5\n",
        "첫번째 숫자를 입력: 2\n",
        "두번째 숫자를 입력: 5\n",
        "12\n",
        "첫번째 숫자를 입력: 5\n",
        "두번째 숫자를 입력: 6\n",
        "23\n",
        "첫번째 숫자를 입력: 0\n",
        "두번째 숫자를 입력: 0\n",
        "```"
      ],
      "metadata": {
        "id": "iDnZEGU6oqhi"
      }
    },
    {
      "cell_type": "code",
      "source": [
        "num1 = 0\n",
        "num2 = 0\n",
        "total = 0\n",
        "\n",
        "while True:\n",
        "  num1 = int(input(\"첫 번째 숫자를 입력: \"))\n",
        "  num2 = int(input(\"두 번째 숫자를 입력: \"))\n",
        "  if (num1 != 0 and num2 != 0):\n",
        "    total += (num1 + num2)\n",
        "    print(total)\n",
        "    continue\n",
        "  else: break"
      ],
      "metadata": {
        "id": "i9iFHL24cJZE",
        "cellView": "code",
        "colab": {
          "base_uri": "https://localhost:8080/"
        },
        "outputId": "b2e7f1d6-7997-4f0f-ab98-5836e1f7078b"
      },
      "execution_count": null,
      "outputs": [
        {
          "name": "stdout",
          "output_type": "stream",
          "text": [
            "첫 번째 숫자를 입력: 2\n",
            "두 번째 숫자를 입력: 3\n",
            "5\n",
            "첫 번째 숫자를 입력: 2\n",
            "두 번째 숫자를 입력: 5\n",
            "12\n",
            "첫 번째 숫자를 입력: 5\n",
            "두 번째 숫자를 입력: 6\n",
            "23\n",
            "첫 번째 숫자를 입력: 0\n",
            "두 번째 숫자를 입력: 0\n"
          ]
        }
      ]
    },
    {
      "cell_type": "markdown",
      "source": [
        "### - 중첩 반목문"
      ],
      "metadata": {
        "id": "DuaL1r6hpbld"
      }
    },
    {
      "cell_type": "markdown",
      "source": [
        "```\n",
        "i = 0\n",
        " j = 0\n",
        " j = 1\n",
        " j = 2\n",
        " j = 3\n",
        " j = 4\n",
        " j = 5\n",
        "\n",
        "i = 1\n",
        " j = 0\n",
        " j = 1\n",
        " j = 2\n",
        " j = 3\n",
        " j = 4\n",
        " j = 5\n",
        "```"
      ],
      "metadata": {
        "id": "jnnP7a3VpfS-"
      }
    },
    {
      "cell_type": "markdown",
      "source": [
        "- while 사용"
      ],
      "metadata": {
        "id": "hqrVcooAv2je"
      }
    },
    {
      "cell_type": "code",
      "source": [
        "i = 0\n",
        "while i <= 1:\n",
        "  print(\"i = \", i)\n",
        "  j = 0\n",
        "  while j <= 5:\n",
        "    print(\"  j = \", j)\n",
        "    j += 1\n",
        "  i += 1\n",
        "  print(\"\")"
      ],
      "metadata": {
        "id": "-Pm64z1bvzIw",
        "colab": {
          "base_uri": "https://localhost:8080/"
        },
        "outputId": "95f49f7b-4ac8-46a8-97c9-62fcf1891bd5"
      },
      "execution_count": null,
      "outputs": [
        {
          "output_type": "stream",
          "name": "stdout",
          "text": [
            "i =  0\n",
            "  j =  0\n",
            "  j =  1\n",
            "  j =  2\n",
            "  j =  3\n",
            "  j =  4\n",
            "  j =  5\n",
            "\n",
            "i =  1\n",
            "  j =  0\n",
            "  j =  1\n",
            "  j =  2\n",
            "  j =  3\n",
            "  j =  4\n",
            "  j =  5\n",
            "\n"
          ]
        }
      ]
    },
    {
      "cell_type": "markdown",
      "source": [
        "- for 사용"
      ],
      "metadata": {
        "id": "dUYJi-C-v68n"
      }
    },
    {
      "cell_type": "code",
      "source": [
        "i = 0\n",
        "for i in range(0, 2):\n",
        "  print(\"i = \", i)\n",
        "  j = 0\n",
        "  for j in range(0, 6):\n",
        "    print(\"  j = \", j)\n",
        "    j += 1\n",
        "  i += 1\n",
        "  print(\"\")"
      ],
      "metadata": {
        "id": "2Yw2POfwv9D0",
        "colab": {
          "base_uri": "https://localhost:8080/"
        },
        "outputId": "a6244109-3009-4b73-bbd8-0c8ba546b8fd"
      },
      "execution_count": 11,
      "outputs": [
        {
          "output_type": "stream",
          "name": "stdout",
          "text": [
            "i =  0\n",
            "  j =  0\n",
            "  j =  1\n",
            "  j =  2\n",
            "  j =  3\n",
            "  j =  4\n",
            "  j =  5\n",
            "\n",
            "i =  1\n",
            "  j =  0\n",
            "  j =  1\n",
            "  j =  2\n",
            "  j =  3\n",
            "  j =  4\n",
            "  j =  5\n",
            "\n"
          ]
        }
      ]
    },
    {
      "cell_type": "markdown",
      "source": [
        "- 구구단 출력\n",
        "\n",
        "```\n",
        "2  *  1  =   2  2  *  2  =   4  2  *  3  =   6  2  *  4  =   8  2  *  5  =  10  2  *  6  =  12  2  *  7  =  14  2  *  8  =  16  2  *  9  =  18  \n",
        "3  *  1  =   3  3  *  2  =   6  3  *  3  =   9  3  *  4  =  12  3  *  5  =  15  3  *  6  =  18  3  *  7  =  21  3  *  8  =  24  3  *  9  =  27  \n",
        "4  *  1  =   4  4  *  2  =   8  4  *  3  =  12  4  *  4  =  16  4  *  5  =  20  4  *  6  =  24  4  *  7  =  28  4  *  8  =  32  4  *  9  =  36  \n",
        "5  *  1  =   5  5  *  2  =  10  5  *  3  =  15  5  *  4  =  20  5  *  5  =  25  5  *  6  =  30  5  *  7  =  35  5  *  8  =  40  5  *  9  =  45  \n",
        "6  *  1  =   6  6  *  2  =  12  6  *  3  =  18  6  *  4  =  24  6  *  5  =  30  6  *  6  =  36  6  *  7  =  42  6  *  8  =  48  6  *  9  =  54  \n",
        "7  *  1  =   7  7  *  2  =  14  7  *  3  =  21  7  *  4  =  28  7  *  5  =  35  7  *  6  =  42  7  *  7  =  49  7  *  8  =  56  7  *  9  =  63  \n",
        "8  *  1  =   8  8  *  2  =  16  8  *  3  =  24  8  *  4  =  32  8  *  5  =  40  8  *  6  =  48  8  *  7  =  56  8  *  8  =  64  8  *  9  =  72  \n",
        "9  *  1  =   9  9  *  2  =  18  9  *  3  =  27  9  *  4  =  36  9  *  5  =  45  9  *  6  =  54  9  *  7  =  63  9  *  8  =  72  9  *  9  =  81  \n",
        "\n",
        "```"
      ],
      "metadata": {
        "id": "8M8O4n1ywL0g"
      }
    },
    {
      "cell_type": "code",
      "source": [
        "i = 0\n",
        "j = 0\n",
        "\n",
        "for i in range(2, 10):\n",
        "  for j in range(1, 10):\n",
        "    print(i, \" * \", j, \" = \", i * j, end=\"\\t\")\n",
        "  print(\"\")"
      ],
      "metadata": {
        "id": "fsIlP4cRwN7M",
        "colab": {
          "base_uri": "https://localhost:8080/"
        },
        "outputId": "54707b7b-bc10-439d-d947-c6009b11b35a"
      },
      "execution_count": 14,
      "outputs": [
        {
          "output_type": "stream",
          "name": "stdout",
          "text": [
            "2  *  1  =  2\t2  *  2  =  4\t2  *  3  =  6\t2  *  4  =  8\t2  *  5  =  10\t2  *  6  =  12\t2  *  7  =  14\t2  *  8  =  16\t2  *  9  =  18\t\n",
            "3  *  1  =  3\t3  *  2  =  6\t3  *  3  =  9\t3  *  4  =  12\t3  *  5  =  15\t3  *  6  =  18\t3  *  7  =  21\t3  *  8  =  24\t3  *  9  =  27\t\n",
            "4  *  1  =  4\t4  *  2  =  8\t4  *  3  =  12\t4  *  4  =  16\t4  *  5  =  20\t4  *  6  =  24\t4  *  7  =  28\t4  *  8  =  32\t4  *  9  =  36\t\n",
            "5  *  1  =  5\t5  *  2  =  10\t5  *  3  =  15\t5  *  4  =  20\t5  *  5  =  25\t5  *  6  =  30\t5  *  7  =  35\t5  *  8  =  40\t5  *  9  =  45\t\n",
            "6  *  1  =  6\t6  *  2  =  12\t6  *  3  =  18\t6  *  4  =  24\t6  *  5  =  30\t6  *  6  =  36\t6  *  7  =  42\t6  *  8  =  48\t6  *  9  =  54\t\n",
            "7  *  1  =  7\t7  *  2  =  14\t7  *  3  =  21\t7  *  4  =  28\t7  *  5  =  35\t7  *  6  =  42\t7  *  7  =  49\t7  *  8  =  56\t7  *  9  =  63\t\n",
            "8  *  1  =  8\t8  *  2  =  16\t8  *  3  =  24\t8  *  4  =  32\t8  *  5  =  40\t8  *  6  =  48\t8  *  7  =  56\t8  *  8  =  64\t8  *  9  =  72\t\n",
            "9  *  1  =  9\t9  *  2  =  18\t9  *  3  =  27\t9  *  4  =  36\t9  *  5  =  45\t9  *  6  =  54\t9  *  7  =  63\t9  *  8  =  72\t9  *  9  =  81\t\n"
          ]
        }
      ]
    },
    {
      "cell_type": "markdown",
      "source": [
        "## 형식지정자\n",
        "- {n:0k.jf}.format(p1, p2, ...) <- n번째 요소를 k자리수로 맞추자. 정수부터 빈자리는 0으로 채우고\n",
        "- {n:0kd}.format(p1, p2, ...)\n",
        "- {n:k.jf}.format(p1, p2, ...)  \n",
        "- {n:kd}.format(p1, p2, ...)"
      ],
      "metadata": {
        "id": "TZGHx96p1ubo"
      }
    },
    {
      "cell_type": "code",
      "source": [
        "a = 10\n",
        "b = 5\n",
        "c = 98.77\n",
        "print(\"a = \", '{0:02d}\\tb = {1:02d}\\tc = {2:0.1f}'.format(a, b, c))"
      ],
      "metadata": {
        "colab": {
          "base_uri": "https://localhost:8080/"
        },
        "id": "0IMCblwt2rdC",
        "outputId": "a182777e-9ba7-4c4c-af54-bf4d2906cfc8"
      },
      "execution_count": 26,
      "outputs": [
        {
          "output_type": "stream",
          "name": "stdout",
          "text": [
            "a =  10\tb = 05\tc = 98.8\n"
          ]
        }
      ]
    },
    {
      "cell_type": "code",
      "source": [
        "i = 0\n",
        "j = 0\n",
        "\n",
        "for i in range(2, 10):\n",
        "  for j in range(1, 10):\n",
        "    print(i, \" * \", j, \" = \", '{0:2d}'.format(i * j), end = \" \")\n",
        "  print(\"\")"
      ],
      "metadata": {
        "colab": {
          "base_uri": "https://localhost:8080/"
        },
        "id": "10eYPjY36_GV",
        "outputId": "6e5d2388-7d31-4d4c-e4d1-b94a6a3965c6"
      },
      "execution_count": 30,
      "outputs": [
        {
          "output_type": "stream",
          "name": "stdout",
          "text": [
            "2  *  1  =   2 2  *  2  =   4 2  *  3  =   6 2  *  4  =   8 2  *  5  =  10 2  *  6  =  12 2  *  7  =  14 2  *  8  =  16 2  *  9  =  18 \n",
            "3  *  1  =   3 3  *  2  =   6 3  *  3  =   9 3  *  4  =  12 3  *  5  =  15 3  *  6  =  18 3  *  7  =  21 3  *  8  =  24 3  *  9  =  27 \n",
            "4  *  1  =   4 4  *  2  =   8 4  *  3  =  12 4  *  4  =  16 4  *  5  =  20 4  *  6  =  24 4  *  7  =  28 4  *  8  =  32 4  *  9  =  36 \n",
            "5  *  1  =   5 5  *  2  =  10 5  *  3  =  15 5  *  4  =  20 5  *  5  =  25 5  *  6  =  30 5  *  7  =  35 5  *  8  =  40 5  *  9  =  45 \n",
            "6  *  1  =   6 6  *  2  =  12 6  *  3  =  18 6  *  4  =  24 6  *  5  =  30 6  *  6  =  36 6  *  7  =  42 6  *  8  =  48 6  *  9  =  54 \n",
            "7  *  1  =   7 7  *  2  =  14 7  *  3  =  21 7  *  4  =  28 7  *  5  =  35 7  *  6  =  42 7  *  7  =  49 7  *  8  =  56 7  *  9  =  63 \n",
            "8  *  1  =   8 8  *  2  =  16 8  *  3  =  24 8  *  4  =  32 8  *  5  =  40 8  *  6  =  48 8  *  7  =  56 8  *  8  =  64 8  *  9  =  72 \n",
            "9  *  1  =   9 9  *  2  =  18 9  *  3  =  27 9  *  4  =  36 9  *  5  =  45 9  *  6  =  54 9  *  7  =  63 9  *  8  =  72 9  *  9  =  81 \n"
          ]
        }
      ]
    },
    {
      "cell_type": "markdown",
      "source": [
        "- 별 출력 (난이도 하)\n",
        "\n",
        "```\n",
        "*****\n",
        "*****\n",
        "*****\n",
        "*****\n",
        "*****\n",
        "```"
      ],
      "metadata": {
        "id": "S98Z7c8V2rUZ"
      }
    },
    {
      "cell_type": "code",
      "source": [
        "for i in range(0, 5):\n",
        "  for j in range(0, 5):\n",
        "    print(\"*\", end=\"\")\n",
        "  print(\"\")"
      ],
      "metadata": {
        "id": "ySdhLedy2qlV",
        "colab": {
          "base_uri": "https://localhost:8080/"
        },
        "outputId": "e7dd9359-867a-4de9-c98b-33d42efb53d6"
      },
      "execution_count": 32,
      "outputs": [
        {
          "output_type": "stream",
          "name": "stdout",
          "text": [
            "*****\n",
            "*****\n",
            "*****\n",
            "*****\n",
            "*****\n"
          ]
        }
      ]
    },
    {
      "cell_type": "markdown",
      "source": [
        "- 별 출력 (난이도 중)\n",
        "\n",
        "```\n",
        "*\n",
        "**\n",
        "***\n",
        "****\n",
        "*****\n",
        "```"
      ],
      "metadata": {
        "id": "WcRfcL5X224F"
      }
    },
    {
      "cell_type": "code",
      "source": [
        "for i in range(1, 6):\n",
        "  for j in range(0, i):\n",
        "    print(\"*\", end=\"\")\n",
        "  print(\"\")"
      ],
      "metadata": {
        "id": "UgL8kiT_3DxG",
        "colab": {
          "base_uri": "https://localhost:8080/"
        },
        "outputId": "3a175805-d56a-44e5-a534-51781bdb53b4"
      },
      "execution_count": 33,
      "outputs": [
        {
          "output_type": "stream",
          "name": "stdout",
          "text": [
            "*\n",
            "**\n",
            "***\n",
            "****\n",
            "*****\n"
          ]
        }
      ]
    },
    {
      "cell_type": "markdown",
      "source": [
        "- 별 출력 (난이도 상)\n",
        "\n",
        "```\n",
        "    *\n",
        "   **\n",
        "  ***\n",
        " ****\n",
        "*****\n",
        "```"
      ],
      "metadata": {
        "id": "PXnPo7Bz3ER6"
      }
    },
    {
      "cell_type": "code",
      "source": [
        "for i in range(1, 6):\n",
        "  for k in range(0, 5-i):\n",
        "    print(\" \", end=\"\")\n",
        "  for j in range(0, i):\n",
        "    print(\"*\", end=\"\")\n",
        "  print(\"\")"
      ],
      "metadata": {
        "colab": {
          "base_uri": "https://localhost:8080/"
        },
        "id": "HPycq0cH_E_I",
        "outputId": "44650fed-599c-4704-ce43-1dfd86223579"
      },
      "execution_count": 40,
      "outputs": [
        {
          "output_type": "stream",
          "name": "stdout",
          "text": [
            "    *\n",
            "   **\n",
            "  ***\n",
            " ****\n",
            "*****\n"
          ]
        }
      ]
    }
  ]
}