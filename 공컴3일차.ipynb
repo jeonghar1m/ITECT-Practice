{
  "nbformat": 4,
  "nbformat_minor": 0,
  "metadata": {
    "colab": {
      "name": "공컴3일차.ipynb",
      "provenance": [],
      "collapsed_sections": [],
      "authorship_tag": "ABX9TyOfOqL+yXyk0rVapfMQ6vjp",
      "include_colab_link": true
    },
    "kernelspec": {
      "name": "python3",
      "display_name": "Python 3"
    },
    "language_info": {
      "name": "python"
    }
  },
  "cells": [
    {
      "cell_type": "markdown",
      "metadata": {
        "id": "view-in-github",
        "colab_type": "text"
      },
      "source": [
        "<a href=\"https://colab.research.google.com/github/jeonghar1m/ITECT-Practice/blob/main/211229/%EA%B3%B5%EC%BB%B43%EC%9D%BC%EC%B0%A8.ipynb\" target=\"_parent\"><img src=\"https://colab.research.google.com/assets/colab-badge.svg\" alt=\"Open In Colab\"/></a>"
      ]
    },
    {
      "cell_type": "code",
      "execution_count": 10,
      "metadata": {
        "colab": {
          "base_uri": "https://localhost:8080/"
        },
        "id": "YGspMNdIz8vY",
        "outputId": "1ebd18a0-912c-4c31-9c82-b3dfcac746bd"
      },
      "outputs": [
        {
          "output_type": "execute_result",
          "data": {
            "text/plain": [
              "True"
            ]
          },
          "metadata": {},
          "execution_count": 10
        }
      ],
      "source": [
        "5 > 3"
      ]
    },
    {
      "cell_type": "code",
      "source": [
        "5 < 3"
      ],
      "metadata": {
        "colab": {
          "base_uri": "https://localhost:8080/"
        },
        "id": "95by9YuR0F98",
        "outputId": "5ed9259a-1e56-440a-e374-ca3752a09adf"
      },
      "execution_count": 8,
      "outputs": [
        {
          "output_type": "execute_result",
          "data": {
            "text/plain": [
              "False"
            ]
          },
          "metadata": {},
          "execution_count": 8
        }
      ]
    },
    {
      "cell_type": "code",
      "source": [
        "3 = 3"
      ],
      "metadata": {
        "colab": {
          "base_uri": "https://localhost:8080/",
          "height": 130
        },
        "id": "ACOToho20KFw",
        "outputId": "6dade210-064f-48e0-800f-fc4c0cd15feb"
      },
      "execution_count": 7,
      "outputs": [
        {
          "output_type": "error",
          "ename": "SyntaxError",
          "evalue": "ignored",
          "traceback": [
            "\u001b[0;36m  File \u001b[0;32m\"<ipython-input-7-79bfd1be65e2>\"\u001b[0;36m, line \u001b[0;32m1\u001b[0m\n\u001b[0;31m    3 = 3\u001b[0m\n\u001b[0m         ^\u001b[0m\n\u001b[0;31mSyntaxError\u001b[0m\u001b[0;31m:\u001b[0m can't assign to literal\n"
          ]
        }
      ]
    },
    {
      "cell_type": "code",
      "source": [
        "3 == 3"
      ],
      "metadata": {
        "colab": {
          "base_uri": "https://localhost:8080/"
        },
        "id": "gza0wtlO0Naw",
        "outputId": "85f69eb2-8a47-4db3-f1a4-7f2208a039e4"
      },
      "execution_count": 5,
      "outputs": [
        {
          "output_type": "execute_result",
          "data": {
            "text/plain": [
              "True"
            ]
          },
          "metadata": {},
          "execution_count": 5
        }
      ]
    },
    {
      "cell_type": "code",
      "source": [
        "3 != 2"
      ],
      "metadata": {
        "colab": {
          "base_uri": "https://localhost:8080/"
        },
        "id": "K14gG-vX0TB4",
        "outputId": "774c73a7-714f-43ef-e052-6db87e0ade9a"
      },
      "execution_count": 6,
      "outputs": [
        {
          "output_type": "execute_result",
          "data": {
            "text/plain": [
              "True"
            ]
          },
          "metadata": {},
          "execution_count": 6
        }
      ]
    },
    {
      "cell_type": "code",
      "source": [
        "3 != 3"
      ],
      "metadata": {
        "colab": {
          "base_uri": "https://localhost:8080/"
        },
        "id": "lOKbINJ70Xwb",
        "outputId": "c96e0ec5-dd82-466e-8af8-5c479a9331a3"
      },
      "execution_count": 9,
      "outputs": [
        {
          "output_type": "execute_result",
          "data": {
            "text/plain": [
              "False"
            ]
          },
          "metadata": {},
          "execution_count": 9
        }
      ]
    },
    {
      "cell_type": "code",
      "source": [
        "'문자열' * 10"
      ],
      "metadata": {
        "colab": {
          "base_uri": "https://localhost:8080/",
          "height": 37
        },
        "id": "pFnkxY242t7j",
        "outputId": "dc06d194-91a9-400f-fc2b-18ecf3503565"
      },
      "execution_count": 12,
      "outputs": [
        {
          "output_type": "execute_result",
          "data": {
            "application/vnd.google.colaboratory.intrinsic+json": {
              "type": "string"
            },
            "text/plain": [
              "'문자열문자열문자열문자열문자열문자열문자열문자열문자열문자열'"
            ]
          },
          "metadata": {},
          "execution_count": 12
        }
      ]
    },
    {
      "cell_type": "code",
      "source": [
        "'\"문자열\"' * 10"
      ],
      "metadata": {
        "colab": {
          "base_uri": "https://localhost:8080/",
          "height": 37
        },
        "id": "5BfLQP672zL9",
        "outputId": "0615e86c-a2a7-4fc5-ad28-1253c25ad37d"
      },
      "execution_count": 13,
      "outputs": [
        {
          "output_type": "execute_result",
          "data": {
            "application/vnd.google.colaboratory.intrinsic+json": {
              "type": "string"
            },
            "text/plain": [
              "'\"문자열\"\"문자열\"\"문자열\"\"문자열\"\"문자열\"\"문자열\"\"문자열\"\"문자열\"\"문자열\"\"문자열\"'"
            ]
          },
          "metadata": {},
          "execution_count": 13
        }
      ]
    },
    {
      "cell_type": "code",
      "source": [
        "name = input(\"이름: \")\n",
        "weight = float(input(\"몸무게(kg): \"))\n",
        "height = float(input(\"키(cm): \"))\n",
        "bmi = weight / (height / 100) ** 2\n",
        "print(name, \"님의 BMI 지수는\", round(bmi, 2), \"입니다.\")"
      ],
      "metadata": {
        "colab": {
          "base_uri": "https://localhost:8080/"
        },
        "id": "Q4PAg4tZ5BJO",
        "outputId": "9accd7b4-b62b-41bc-e534-26bbd5f2cf19"
      },
      "execution_count": 15,
      "outputs": [
        {
          "output_type": "stream",
          "name": "stdout",
          "text": [
            "이름: 정하림\n",
            "몸무게(kg): 69\n",
            "키(cm): 173.2\n",
            "정하림 님의 BMI 지수는 23.0 입니다.\n"
          ]
        }
      ]
    },
    {
      "cell_type": "code",
      "source": [
        "pwd = \"1234a\"\n",
        "userpwd = input(\"비밀번호 입력하세요: \")\n",
        "if(pwd == userpwd):\n",
        "  print(\"당신은 로그인 되었어요\")\n",
        "else:\n",
        "  print(\"너는 침입자야.\")"
      ],
      "metadata": {
        "colab": {
          "base_uri": "https://localhost:8080/"
        },
        "id": "J2jZwmre_vM4",
        "outputId": "298f4a65-7c1c-45fa-93f7-ed0edfa406e7"
      },
      "execution_count": 19,
      "outputs": [
        {
          "output_type": "stream",
          "name": "stdout",
          "text": [
            "비밀번호 입력하세요: 1234a\n",
            "당신은 로그인 되었어요\n"
          ]
        }
      ]
    },
    {
      "cell_type": "code",
      "source": [
        "num = int(input(\"숫자를 입력해주세요: \"))\n",
        "if(num < 100): print(\"num은 100보다 작습니다.\")\n",
        "else: print(\"num은 100보다 큽니다.\")"
      ],
      "metadata": {
        "colab": {
          "base_uri": "https://localhost:8080/"
        },
        "id": "PARf8kepAO6v",
        "outputId": "a43d7880-5b21-4b92-ddfa-7e7295c2dfc8"
      },
      "execution_count": 21,
      "outputs": [
        {
          "output_type": "stream",
          "name": "stdout",
          "text": [
            "숫자를 입력해주세요: 105\n",
            "num은 100보다 큽니다.\n"
          ]
        }
      ]
    },
    {
      "cell_type": "code",
      "source": [
        "num = int(input(\"숫자를 입력하세요: \"))\n",
        "if(num % 3 == 0): print(\"3배수\")\n",
        "else: print(\"3배수 아님\")"
      ],
      "metadata": {
        "colab": {
          "base_uri": "https://localhost:8080/"
        },
        "id": "cmlYL6LZIhpQ",
        "outputId": "75673be5-aca5-4388-fe38-48510a8f4e45"
      },
      "execution_count": 24,
      "outputs": [
        {
          "output_type": "stream",
          "name": "stdout",
          "text": [
            "숫자를 입력하세요: 2\n",
            "3배수 아님\n"
          ]
        }
      ]
    },
    {
      "cell_type": "code",
      "source": [
        "score = int(input(\"점수를 입력하세요 \"))\n",
        "if(score >= 90): print(\"A학점\")\n",
        "elif(score >= 80): print(\"B학점\")\n",
        "elif(score >= 70): print(\"C학점\")\n",
        "elif(score >= 60): print(\"D학점\")"
      ],
      "metadata": {
        "colab": {
          "base_uri": "https://localhost:8080/"
        },
        "id": "Tyq6n3rTLPgg",
        "outputId": "bd73432f-e302-47c4-9ad8-e05aa8161de2"
      },
      "execution_count": 26,
      "outputs": [
        {
          "output_type": "stream",
          "name": "stdout",
          "text": [
            "점수를 입력하세요 70\n",
            "C학점\n"
          ]
        }
      ]
    },
    {
      "cell_type": "code",
      "source": [
        "num1 = int(input(\"첫번째 숫자를를 입력하세요: \"))\n",
        "op = input(\"부모를를 입력하세요요(+, -, *, /): \")\n",
        "num2 = int(input(\"두번째 숫자를를 입력하세요: \"))\n",
        "\n",
        "if op == \"+\":\n",
        "  print(\"출력: \", (num + num2))\n",
        "elif op == \"-\":\n",
        "  print(\"출력: \", (num1 - num2))\n",
        "elif op == \"*\":\n",
        "  print(\"출력: \", (num1 * num2))\n",
        "elif op == \"/\":\n",
        "  if num2 != 0:\n",
        "    print(\"출력: \", (num1 / num2))\n",
        "  else:\n",
        "    print(\"0으로 나눌 수 없습니다.\")\n",
        "else: print(\"연산자가 잘못 입력 되었습니다.\")"
      ],
      "metadata": {
        "colab": {
          "base_uri": "https://localhost:8080/"
        },
        "id": "GK6e7eY0NwTH",
        "outputId": "f8e641c6-32e7-48e1-df8c-369bcad7cd51"
      },
      "execution_count": 33,
      "outputs": [
        {
          "output_type": "stream",
          "name": "stdout",
          "text": [
            "첫번째 숫자를를 입력하세요: 10\n",
            "부모를를 입력하세요요(+, -, *, /): /\n",
            "두번째 숫자를를 입력하세요: 10\n",
            "출력:  1.0\n"
          ]
        }
      ]
    },
    {
      "cell_type": "code",
      "source": [
        ""
      ],
      "metadata": {
        "id": "fiaECYA8P5CF"
      },
      "execution_count": null,
      "outputs": []
    }
  ]
}