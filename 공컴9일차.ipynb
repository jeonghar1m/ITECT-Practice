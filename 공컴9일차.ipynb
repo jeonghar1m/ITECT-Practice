{
  "nbformat": 4,
  "nbformat_minor": 0,
  "metadata": {
    "colab": {
      "name": "공컴9일차",
      "provenance": [],
      "collapsed_sections": [],
      "authorship_tag": "ABX9TyN0m+JJfkdkIdACG/jZcsie",
      "include_colab_link": true
    },
    "kernelspec": {
      "name": "python3",
      "display_name": "Python 3"
    },
    "language_info": {
      "name": "python"
    }
  },
  "cells": [
    {
      "cell_type": "markdown",
      "metadata": {
        "id": "view-in-github",
        "colab_type": "text"
      },
      "source": [
        "<a href=\"https://colab.research.google.com/github/jeonghar1m/ITECT-Practice/blob/main/%EA%B3%B5%EC%BB%B49%EC%9D%BC%EC%B0%A8.ipynb\" target=\"_parent\"><img src=\"https://colab.research.google.com/assets/colab-badge.svg\" alt=\"Open In Colab\"/></a>"
      ]
    },
    {
      "cell_type": "markdown",
      "source": [
        "# 1. List\n",
        "* List 생성\n",
        "\n",
        "다양한 자료형을 넣을 수 있다."
      ],
      "metadata": {
        "id": "sypB0yB_vEqC"
      }
    },
    {
      "cell_type": "code",
      "execution_count": 2,
      "metadata": {
        "colab": {
          "base_uri": "https://localhost:8080/"
        },
        "id": "2iskId5ss-gK",
        "outputId": "68746ef9-320b-46f3-9bd5-972b1ace6702"
      },
      "outputs": [
        {
          "output_type": "execute_result",
          "data": {
            "text/plain": [
              "([2, 3, 7, 'A', False, 'Korea'], list)"
            ]
          },
          "metadata": {},
          "execution_count": 2
        }
      ],
      "source": [
        "list1 = [2, 3, 7, 'A', False, 'Korea']\n",
        "list1, type(list1)"
      ]
    },
    {
      "cell_type": "code",
      "source": [
        "print(list1)\n",
        "for i in list1:\n",
        "  print(i, type(i))"
      ],
      "metadata": {
        "colab": {
          "base_uri": "https://localhost:8080/"
        },
        "id": "hlcKblawwG0n",
        "outputId": "9e1e3115-1332-4740-e34d-a270ac67e6e6"
      },
      "execution_count": 5,
      "outputs": [
        {
          "output_type": "stream",
          "name": "stdout",
          "text": [
            "[2, 3, 7, 'A', False, 'Korea']\n",
            "2 <class 'int'>\n",
            "3 <class 'int'>\n",
            "7 <class 'int'>\n",
            "A <class 'str'>\n",
            "False <class 'bool'>\n",
            "Korea <class 'str'>\n"
          ]
        }
      ]
    },
    {
      "cell_type": "markdown",
      "source": [
        "* List 인덱싱 & 값 변경"
      ],
      "metadata": {
        "id": "4fFTwOxuwonL"
      }
    },
    {
      "cell_type": "code",
      "source": [
        "list1[2] = 'two'\n",
        "list1"
      ],
      "metadata": {
        "colab": {
          "base_uri": "https://localhost:8080/"
        },
        "id": "yWFjc-XlxRg0",
        "outputId": "3210516d-4b1e-4c53-8df0-412245a8a938"
      },
      "execution_count": 6,
      "outputs": [
        {
          "output_type": "execute_result",
          "data": {
            "text/plain": [
              "[2, 3, 'two', 'A', False, 'Korea']"
            ]
          },
          "metadata": {},
          "execution_count": 6
        }
      ]
    },
    {
      "cell_type": "markdown",
      "source": [
        "* Range 사용하여 List 생성"
      ],
      "metadata": {
        "id": "cogCbHsExoXa"
      }
    },
    {
      "cell_type": "code",
      "source": [
        "gen = range(1, 11) # 1 부터 n까지의 숫자를 1씩 증가하면서서 생성\n",
        "list(gen)"
      ],
      "metadata": {
        "colab": {
          "base_uri": "https://localhost:8080/"
        },
        "id": "nWu95Y2Xxs8k",
        "outputId": "ff5ecbae-b8aa-4ce9-c4fe-459f9226309d"
      },
      "execution_count": 7,
      "outputs": [
        {
          "output_type": "execute_result",
          "data": {
            "text/plain": [
              "[1, 2, 3, 4, 5, 6, 7, 8, 9, 10]"
            ]
          },
          "metadata": {},
          "execution_count": 7
        }
      ]
    },
    {
      "cell_type": "code",
      "source": [
        "gen2 = list(range(1, 11, 2))\n",
        "gen2"
      ],
      "metadata": {
        "colab": {
          "base_uri": "https://localhost:8080/"
        },
        "id": "xENNiLaBx8wD",
        "outputId": "b24d48de-fe28-41f2-c7c1-4e6c4990fb0e"
      },
      "execution_count": 8,
      "outputs": [
        {
          "output_type": "execute_result",
          "data": {
            "text/plain": [
              "[1, 3, 5, 7, 9]"
            ]
          },
          "metadata": {},
          "execution_count": 8
        }
      ]
    },
    {
      "cell_type": "code",
      "source": [
        "gen2[2] = '10'\n",
        "gen2"
      ],
      "metadata": {
        "colab": {
          "base_uri": "https://localhost:8080/"
        },
        "id": "iLz6GzwhyA0w",
        "outputId": "16f6a0ce-dfe5-4967-a6b3-075cc107ba63"
      },
      "execution_count": 9,
      "outputs": [
        {
          "output_type": "execute_result",
          "data": {
            "text/plain": [
              "[1, 3, '10', 7, 9]"
            ]
          },
          "metadata": {},
          "execution_count": 9
        }
      ]
    },
    {
      "cell_type": "markdown",
      "source": [
        "* Adding and removing elements"
      ],
      "metadata": {
        "id": "6ql4UVIvyKVA"
      }
    },
    {
      "cell_type": "code",
      "source": [
        "list1"
      ],
      "metadata": {
        "colab": {
          "base_uri": "https://localhost:8080/"
        },
        "id": "RgrjtlCAyM9T",
        "outputId": "30b67e82-382f-4747-d3ee-b30aa6049df6"
      },
      "execution_count": 10,
      "outputs": [
        {
          "output_type": "execute_result",
          "data": {
            "text/plain": [
              "[2, 3, 'two', 'A', False, 'Korea']"
            ]
          },
          "metadata": {},
          "execution_count": 10
        }
      ]
    },
    {
      "cell_type": "code",
      "source": [
        "list1.append('홍익대')\n",
        "list1"
      ],
      "metadata": {
        "colab": {
          "base_uri": "https://localhost:8080/"
        },
        "id": "cQmUIYQKyPHj",
        "outputId": "72d3813d-09a0-4133-8dba-ba5b147c98d2"
      },
      "execution_count": 11,
      "outputs": [
        {
          "output_type": "execute_result",
          "data": {
            "text/plain": [
              "[2, 3, 'two', 'A', False, 'Korea', '홍익대']"
            ]
          },
          "metadata": {},
          "execution_count": 11
        }
      ]
    },
    {
      "cell_type": "code",
      "source": [
        "list1.insert(1, 'korea')\n",
        "list1"
      ],
      "metadata": {
        "colab": {
          "base_uri": "https://localhost:8080/"
        },
        "id": "HP7W-RROySzd",
        "outputId": "6a5c836b-ce17-4a40-efa2-73a7aa751b64"
      },
      "execution_count": 12,
      "outputs": [
        {
          "output_type": "execute_result",
          "data": {
            "text/plain": [
              "[2, 'korea', 3, 'two', 'A', False, 'Korea', '홍익대']"
            ]
          },
          "metadata": {},
          "execution_count": 12
        }
      ]
    },
    {
      "cell_type": "code",
      "source": [
        "r = list1.pop(2)\n",
        "r"
      ],
      "metadata": {
        "colab": {
          "base_uri": "https://localhost:8080/"
        },
        "id": "wN5SYO8izBIi",
        "outputId": "192c7b4f-18ad-444d-ebe6-78d5eb5da420"
      },
      "execution_count": 13,
      "outputs": [
        {
          "output_type": "execute_result",
          "data": {
            "text/plain": [
              "3"
            ]
          },
          "metadata": {},
          "execution_count": 13
        }
      ]
    },
    {
      "cell_type": "code",
      "source": [
        "list1"
      ],
      "metadata": {
        "colab": {
          "base_uri": "https://localhost:8080/"
        },
        "id": "T5f5DaKHzGnq",
        "outputId": "dda65436-133b-431c-a26f-42559436a7b8"
      },
      "execution_count": 15,
      "outputs": [
        {
          "output_type": "execute_result",
          "data": {
            "text/plain": [
              "[2, 'korea', 'two', 'A', False, 'Korea', '홍익대']"
            ]
          },
          "metadata": {},
          "execution_count": 15
        }
      ]
    },
    {
      "cell_type": "code",
      "source": [
        "list1.pop(2)"
      ],
      "metadata": {
        "colab": {
          "base_uri": "https://localhost:8080/",
          "height": 37
        },
        "id": "FMQjwia7S1xX",
        "outputId": "a5b02197-f8ef-4e51-fafc-ce17f3a87db7"
      },
      "execution_count": 16,
      "outputs": [
        {
          "output_type": "execute_result",
          "data": {
            "application/vnd.google.colaboratory.intrinsic+json": {
              "type": "string"
            },
            "text/plain": [
              "'two'"
            ]
          },
          "metadata": {},
          "execution_count": 16
        }
      ]
    },
    {
      "cell_type": "code",
      "source": [
        "list1"
      ],
      "metadata": {
        "colab": {
          "base_uri": "https://localhost:8080/"
        },
        "id": "VRovO6zRS5F1",
        "outputId": "316bb891-d5d4-41a6-e01a-21cf299d3e46"
      },
      "execution_count": 17,
      "outputs": [
        {
          "output_type": "execute_result",
          "data": {
            "text/plain": [
              "[2, 'korea', 'A', False, 'Korea', '홍익대']"
            ]
          },
          "metadata": {},
          "execution_count": 17
        }
      ]
    },
    {
      "cell_type": "code",
      "source": [
        "pop1 = list1.pop(1)\n",
        "pop1, list1"
      ],
      "metadata": {
        "colab": {
          "base_uri": "https://localhost:8080/"
        },
        "id": "E2zmpffVTH8n",
        "outputId": "eea81573-16bc-4945-cebd-109d01677f05"
      },
      "execution_count": 19,
      "outputs": [
        {
          "output_type": "execute_result",
          "data": {
            "text/plain": [
              "('korea', [2, 'A', False, 'Korea', '홍익대'])"
            ]
          },
          "metadata": {},
          "execution_count": 19
        }
      ]
    },
    {
      "cell_type": "code",
      "source": [
        "list1"
      ],
      "metadata": {
        "colab": {
          "base_uri": "https://localhost:8080/"
        },
        "id": "TarswdFBTWcv",
        "outputId": "d178ba15-f58d-4718-ea92-f2d1266cb918"
      },
      "execution_count": 20,
      "outputs": [
        {
          "output_type": "execute_result",
          "data": {
            "text/plain": [
              "[2, 'A', False, 'Korea', '홍익대']"
            ]
          },
          "metadata": {},
          "execution_count": 20
        }
      ]
    },
    {
      "cell_type": "code",
      "source": [
        "# remove\n",
        "list1.remove('Korea')\n",
        "list1"
      ],
      "metadata": {
        "colab": {
          "base_uri": "https://localhost:8080/"
        },
        "id": "bH5WV2xTTdwL",
        "outputId": "62965d34-c876-4e0e-cdd5-bcdc99ddae61"
      },
      "execution_count": 22,
      "outputs": [
        {
          "output_type": "execute_result",
          "data": {
            "text/plain": [
              "[2, 'A', False, '홍익대']"
            ]
          },
          "metadata": {},
          "execution_count": 22
        }
      ]
    },
    {
      "cell_type": "code",
      "source": [
        "list2 = [1, 2, 3, 4, 5, 6]\n",
        "list2"
      ],
      "metadata": {
        "colab": {
          "base_uri": "https://localhost:8080/"
        },
        "id": "9IOnMgb6T6WU",
        "outputId": "f9ad8a54-8524-47b5-a9e0-e81bb0d1ba85"
      },
      "execution_count": 23,
      "outputs": [
        {
          "output_type": "execute_result",
          "data": {
            "text/plain": [
              "[1, 2, 3, 4, 5, 6]"
            ]
          },
          "metadata": {},
          "execution_count": 23
        }
      ]
    },
    {
      "cell_type": "code",
      "source": [
        "list2.index(5)"
      ],
      "metadata": {
        "colab": {
          "base_uri": "https://localhost:8080/"
        },
        "id": "hDN0zRskT-7H",
        "outputId": "dc024b86-75f2-4f15-b3f2-0034fb3d4559"
      },
      "execution_count": 24,
      "outputs": [
        {
          "output_type": "execute_result",
          "data": {
            "text/plain": [
              "4"
            ]
          },
          "metadata": {},
          "execution_count": 24
        }
      ]
    },
    {
      "cell_type": "markdown",
      "source": [
        "* slicing (list)"
      ],
      "metadata": {
        "id": "jTxatQTRUZH6"
      }
    },
    {
      "cell_type": "code",
      "source": [
        "seq = [7, 2, 3, 7, 6, 1, 11]\n",
        "seq[1:5] # 이상~미만"
      ],
      "metadata": {
        "colab": {
          "base_uri": "https://localhost:8080/"
        },
        "id": "Cg3gtW-JUbWE",
        "outputId": "63ad691d-dd54-4948-ebe3-8dc423701ca9"
      },
      "execution_count": 25,
      "outputs": [
        {
          "output_type": "execute_result",
          "data": {
            "text/plain": [
              "[2, 3, 7, 6]"
            ]
          },
          "metadata": {},
          "execution_count": 25
        }
      ]
    },
    {
      "cell_type": "code",
      "source": [
        "seq"
      ],
      "metadata": {
        "colab": {
          "base_uri": "https://localhost:8080/"
        },
        "id": "dT-2PR1GUjyL",
        "outputId": "5d8ef1f3-f81b-4e9e-c5ba-944c5889a4b6"
      },
      "execution_count": 26,
      "outputs": [
        {
          "output_type": "execute_result",
          "data": {
            "text/plain": [
              "[7, 2, 3, 7, 6, 1, 11]"
            ]
          },
          "metadata": {},
          "execution_count": 26
        }
      ]
    },
    {
      "cell_type": "code",
      "source": [
        "seq\n",
        "seq[1:3] = [-6, -3]\n",
        "seq"
      ],
      "metadata": {
        "colab": {
          "base_uri": "https://localhost:8080/"
        },
        "id": "61jyoCYXUnHL",
        "outputId": "75253a3f-99d0-44d0-c1b0-51617eaaeb36"
      },
      "execution_count": 28,
      "outputs": [
        {
          "output_type": "execute_result",
          "data": {
            "text/plain": [
              "[7, -6, -3, 7, 6, 1, 11]"
            ]
          },
          "metadata": {},
          "execution_count": 28
        }
      ]
    },
    {
      "cell_type": "code",
      "source": [
        "seq[:5]"
      ],
      "metadata": {
        "colab": {
          "base_uri": "https://localhost:8080/"
        },
        "id": "Lm_hdM6sU4Nv",
        "outputId": "9d49e90b-9e11-4d35-ad8d-ff57b96084ce"
      },
      "execution_count": 29,
      "outputs": [
        {
          "output_type": "execute_result",
          "data": {
            "text/plain": [
              "[7, -6, -3, 7, 6]"
            ]
          },
          "metadata": {},
          "execution_count": 29
        }
      ]
    },
    {
      "cell_type": "code",
      "source": [
        "seq"
      ],
      "metadata": {
        "colab": {
          "base_uri": "https://localhost:8080/"
        },
        "id": "HnFg641NU6rg",
        "outputId": "577197f0-5097-415d-84f4-4d2a6fac3ce5"
      },
      "execution_count": 30,
      "outputs": [
        {
          "output_type": "execute_result",
          "data": {
            "text/plain": [
              "[7, -6, -3, 7, 6, 1, 11]"
            ]
          },
          "metadata": {},
          "execution_count": 30
        }
      ]
    },
    {
      "cell_type": "code",
      "source": [
        "result = seq[3:]\n",
        "result, type(result)"
      ],
      "metadata": {
        "colab": {
          "base_uri": "https://localhost:8080/"
        },
        "id": "gR2Ht8eUU8Sp",
        "outputId": "f2d8d91d-a4a2-447d-ace3-b997872abbd1"
      },
      "execution_count": 32,
      "outputs": [
        {
          "output_type": "execute_result",
          "data": {
            "text/plain": [
              "([7, 6, 1, 11], list)"
            ]
          },
          "metadata": {},
          "execution_count": 32
        }
      ]
    },
    {
      "cell_type": "code",
      "source": [
        "seq"
      ],
      "metadata": {
        "colab": {
          "base_uri": "https://localhost:8080/"
        },
        "id": "T8fBbkUUVPsj",
        "outputId": "37e035f8-631a-4c07-9ab2-9e0b3c402758"
      },
      "execution_count": 33,
      "outputs": [
        {
          "output_type": "execute_result",
          "data": {
            "text/plain": [
              "[7, -6, -3, 7, 6, 1, 11]"
            ]
          },
          "metadata": {},
          "execution_count": 33
        }
      ]
    },
    {
      "cell_type": "code",
      "source": [
        "seq[-1]"
      ],
      "metadata": {
        "colab": {
          "base_uri": "https://localhost:8080/"
        },
        "id": "FPcQVl46VQ58",
        "outputId": "697aa803-39d1-4e84-8b4d-adc3c90f4a2f"
      },
      "execution_count": 34,
      "outputs": [
        {
          "output_type": "execute_result",
          "data": {
            "text/plain": [
              "11"
            ]
          },
          "metadata": {},
          "execution_count": 34
        }
      ]
    },
    {
      "cell_type": "code",
      "source": [
        "seq[-2:]"
      ],
      "metadata": {
        "colab": {
          "base_uri": "https://localhost:8080/"
        },
        "id": "6vXqUFJ1VTN3",
        "outputId": "58a0fae2-bc92-423a-918c-d10ffe28358c"
      },
      "execution_count": 35,
      "outputs": [
        {
          "output_type": "execute_result",
          "data": {
            "text/plain": [
              "[1, 11]"
            ]
          },
          "metadata": {},
          "execution_count": 35
        }
      ]
    },
    {
      "cell_type": "code",
      "source": [
        "seq[-4:]"
      ],
      "metadata": {
        "colab": {
          "base_uri": "https://localhost:8080/"
        },
        "id": "PBAzxr-3VWew",
        "outputId": "fa022f53-df7f-4859-9e0e-d7ba54d8b503"
      },
      "execution_count": 36,
      "outputs": [
        {
          "output_type": "execute_result",
          "data": {
            "text/plain": [
              "[7, 6, 1, 11]"
            ]
          },
          "metadata": {},
          "execution_count": 36
        }
      ]
    },
    {
      "cell_type": "code",
      "source": [
        "seq[:]"
      ],
      "metadata": {
        "colab": {
          "base_uri": "https://localhost:8080/"
        },
        "id": "hLa4niBOVat0",
        "outputId": "ad960e2b-8527-48a4-bcc7-4441c8a6a648"
      },
      "execution_count": 37,
      "outputs": [
        {
          "output_type": "execute_result",
          "data": {
            "text/plain": [
              "[7, -6, -3, 7, 6, 1, 11]"
            ]
          },
          "metadata": {},
          "execution_count": 37
        }
      ]
    },
    {
      "cell_type": "code",
      "source": [
        "seq[::]"
      ],
      "metadata": {
        "colab": {
          "base_uri": "https://localhost:8080/"
        },
        "id": "-lG82INKV3Hf",
        "outputId": "76ff37cc-c5f0-41d7-91ab-77369632516c"
      },
      "execution_count": 39,
      "outputs": [
        {
          "output_type": "execute_result",
          "data": {
            "text/plain": [
              "[7, -6, -3, 7, 6, 1, 11]"
            ]
          },
          "metadata": {},
          "execution_count": 39
        }
      ]
    },
    {
      "cell_type": "code",
      "source": [
        "reSeq = seq[::-1]\n",
        "reSeq, seq"
      ],
      "metadata": {
        "colab": {
          "base_uri": "https://localhost:8080/"
        },
        "id": "J1zW39VxVt3Q",
        "outputId": "dbac9685-fe76-4859-85db-82b982524350"
      },
      "execution_count": 38,
      "outputs": [
        {
          "output_type": "execute_result",
          "data": {
            "text/plain": [
              "([11, 1, 6, 7, -3, -6, 7], [7, -6, -3, 7, 6, 1, 11])"
            ]
          },
          "metadata": {},
          "execution_count": 38
        }
      ]
    },
    {
      "cell_type": "markdown",
      "source": [
        "* 리스트 정렬"
      ],
      "metadata": {
        "id": "eK4mnUc4WT1b"
      }
    },
    {
      "cell_type": "code",
      "source": [
        "seq.reverse() # 원본까지 수정\n",
        "seq"
      ],
      "metadata": {
        "colab": {
          "base_uri": "https://localhost:8080/"
        },
        "id": "GK3SyqATWWE9",
        "outputId": "bbb77f3b-49bf-48bd-da71-78bcbdca2f05"
      },
      "execution_count": 42,
      "outputs": [
        {
          "output_type": "execute_result",
          "data": {
            "text/plain": [
              "[7, -6, -3, 7, 6, 1, 11]"
            ]
          },
          "metadata": {},
          "execution_count": 42
        }
      ]
    },
    {
      "cell_type": "code",
      "source": [
        "seq.sort() # 오름차순\n",
        "seq"
      ],
      "metadata": {
        "colab": {
          "base_uri": "https://localhost:8080/"
        },
        "id": "gM5tkMluWhfc",
        "outputId": "bb678ed2-dc6c-4d91-ce75-171c1ef6e78b"
      },
      "execution_count": 43,
      "outputs": [
        {
          "output_type": "execute_result",
          "data": {
            "text/plain": [
              "[-6, -3, 1, 6, 7, 7, 11]"
            ]
          },
          "metadata": {},
          "execution_count": 43
        }
      ]
    },
    {
      "cell_type": "code",
      "source": [
        "seq.sort(reverse=True) # 내림차순\n",
        "seq"
      ],
      "metadata": {
        "colab": {
          "base_uri": "https://localhost:8080/"
        },
        "id": "dIU7-ayCWs7_",
        "outputId": "71e9de41-142b-4909-d6d6-71497902ab83"
      },
      "execution_count": 44,
      "outputs": [
        {
          "output_type": "execute_result",
          "data": {
            "text/plain": [
              "[11, 7, 7, 6, 1, -3, -6]"
            ]
          },
          "metadata": {},
          "execution_count": 44
        }
      ]
    },
    {
      "cell_type": "code",
      "source": [
        "lt = '우리 학교는 세종시에 위치합니다.'\n",
        "lt, type(lt)"
      ],
      "metadata": {
        "colab": {
          "base_uri": "https://localhost:8080/"
        },
        "id": "oW3lrGkLW46p",
        "outputId": "0cba80ac-6d9b-4e91-870d-a737baefc13b"
      },
      "execution_count": 45,
      "outputs": [
        {
          "output_type": "execute_result",
          "data": {
            "text/plain": [
              "('우리 학교는 세종시에 위치합니다.', str)"
            ]
          },
          "metadata": {},
          "execution_count": 45
        }
      ]
    },
    {
      "cell_type": "code",
      "source": [
        "list3 = lt\n",
        "list3, type(list3)"
      ],
      "metadata": {
        "colab": {
          "base_uri": "https://localhost:8080/"
        },
        "id": "WQeZfov4W-Qi",
        "outputId": "e5b8efa5-e742-425e-939b-1473d285eb4d"
      },
      "execution_count": 46,
      "outputs": [
        {
          "output_type": "execute_result",
          "data": {
            "text/plain": [
              "('우리 학교는 세종시에 위치합니다.', str)"
            ]
          },
          "metadata": {},
          "execution_count": 46
        }
      ]
    },
    {
      "cell_type": "code",
      "source": [
        "list3 = list3.split()\n",
        "list3, type(list3)"
      ],
      "metadata": {
        "colab": {
          "base_uri": "https://localhost:8080/"
        },
        "id": "m7h7T9WlXBBI",
        "outputId": "b412fe4a-965a-4080-94a4-eb9e70770a79"
      },
      "execution_count": 48,
      "outputs": [
        {
          "output_type": "execute_result",
          "data": {
            "text/plain": [
              "(['우리', '학교는', '세종시에', '위치합니다.'], list)"
            ]
          },
          "metadata": {},
          "execution_count": 48
        }
      ]
    },
    {
      "cell_type": "code",
      "source": [
        "list3.sort()\n",
        "list3"
      ],
      "metadata": {
        "colab": {
          "base_uri": "https://localhost:8080/"
        },
        "id": "2BASZ1NCXIGe",
        "outputId": "d47b304c-ed90-4de0-b453-c1178fb9a01c"
      },
      "execution_count": 49,
      "outputs": [
        {
          "output_type": "execute_result",
          "data": {
            "text/plain": [
              "['세종시에', '우리', '위치합니다.', '학교는']"
            ]
          },
          "metadata": {},
          "execution_count": 49
        }
      ]
    }
  ]
}