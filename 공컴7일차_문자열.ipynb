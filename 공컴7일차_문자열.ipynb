{
  "nbformat": 4,
  "nbformat_minor": 0,
  "metadata": {
    "colab": {
      "name": "공컴 7일차_문자열",
      "provenance": [],
      "collapsed_sections": [],
      "authorship_tag": "ABX9TyPGNkUbFUUPVov1JbvBDLQQ",
      "include_colab_link": true
    },
    "kernelspec": {
      "name": "python3",
      "display_name": "Python 3"
    },
    "language_info": {
      "name": "python"
    }
  },
  "cells": [
    {
      "cell_type": "markdown",
      "metadata": {
        "id": "view-in-github",
        "colab_type": "text"
      },
      "source": [
        "<a href=\"https://colab.research.google.com/github/jeonghar1m/ITECT-Practice/blob/main/210104/%EA%B3%B5%EC%BB%B4_7%EC%9D%BC%EC%B0%A8_%EB%AC%B8%EC%9E%90%EC%97%B4.ipynb\" target=\"_parent\"><img src=\"https://colab.research.google.com/assets/colab-badge.svg\" alt=\"Open In Colab\"/></a>"
      ]
    },
    {
      "cell_type": "markdown",
      "source": [
        "### 문자열 (2022.01.04)"
      ],
      "metadata": {
        "id": "T_wg22hxxHqW"
      }
    },
    {
      "cell_type": "code",
      "source": [
        "A = \"가나다라마바사\"\n",
        "print(A)\n",
        "B = \"ABCDEFGHIJK\"\n",
        "print(B)\n",
        "type(B)"
      ],
      "metadata": {
        "colab": {
          "base_uri": "https://localhost:8080/"
        },
        "id": "_dGvXyZUxFxw",
        "outputId": "a37c9187-4e99-4d30-93b3-9f3fac9fdd4d"
      },
      "execution_count": null,
      "outputs": [
        {
          "output_type": "stream",
          "name": "stdout",
          "text": [
            "가나다라마바사아\n",
            "ABCDEFGHIJK\n"
          ]
        },
        {
          "output_type": "execute_result",
          "data": {
            "text/plain": [
              "str"
            ]
          },
          "metadata": {},
          "execution_count": 17
        }
      ]
    },
    {
      "cell_type": "code",
      "source": [
        "a = \"홍익대\"\n",
        "type(a)"
      ],
      "metadata": {
        "colab": {
          "base_uri": "https://localhost:8080/"
        },
        "id": "CGV9wYAUxgoC",
        "outputId": "eb158e5c-7560-4460-f861-72b881e57b04"
      },
      "execution_count": null,
      "outputs": [
        {
          "output_type": "execute_result",
          "data": {
            "text/plain": [
              "str"
            ]
          },
          "metadata": {},
          "execution_count": 6
        }
      ]
    },
    {
      "cell_type": "code",
      "source": [
        "# 문자열의 길이 (크기)\n",
        "len(A)"
      ],
      "metadata": {
        "colab": {
          "base_uri": "https://localhost:8080/"
        },
        "id": "fvuKo1dIxmJI",
        "outputId": "9bda0c4c-3ffe-4efe-cbc4-b327ffd11ebe"
      },
      "execution_count": null,
      "outputs": [
        {
          "output_type": "execute_result",
          "data": {
            "text/plain": [
              "7"
            ]
          },
          "metadata": {},
          "execution_count": 7
        }
      ]
    },
    {
      "cell_type": "code",
      "source": [
        "A[0]"
      ],
      "metadata": {
        "colab": {
          "base_uri": "https://localhost:8080/",
          "height": 37
        },
        "id": "OHzpZ1rSyIS0",
        "outputId": "ebb3b01b-ff00-463c-d6ac-0e3ba6c1b337"
      },
      "execution_count": null,
      "outputs": [
        {
          "output_type": "execute_result",
          "data": {
            "application/vnd.google.colaboratory.intrinsic+json": {
              "type": "string"
            },
            "text/plain": [
              "'가'"
            ]
          },
          "metadata": {},
          "execution_count": 8
        }
      ]
    },
    {
      "cell_type": "code",
      "source": [
        "# 범위 지정하여 추출\n",
        "A[2:4] # index 2, 3 A[start:end - 1]"
      ],
      "metadata": {
        "colab": {
          "base_uri": "https://localhost:8080/",
          "height": 37
        },
        "id": "IWvIf4y6ythW",
        "outputId": "2dbda802-89c4-483e-d170-f3e5557066ee"
      },
      "execution_count": null,
      "outputs": [
        {
          "output_type": "execute_result",
          "data": {
            "application/vnd.google.colaboratory.intrinsic+json": {
              "type": "string"
            },
            "text/plain": [
              "'다라'"
            ]
          },
          "metadata": {},
          "execution_count": 10
        }
      ]
    },
    {
      "cell_type": "code",
      "source": [
        "B[3:6]"
      ],
      "metadata": {
        "colab": {
          "base_uri": "https://localhost:8080/",
          "height": 37
        },
        "id": "DiODJh3Ey7ie",
        "outputId": "a81d7cce-4bc1-4cc6-e183-c2db116d9936"
      },
      "execution_count": null,
      "outputs": [
        {
          "output_type": "execute_result",
          "data": {
            "application/vnd.google.colaboratory.intrinsic+json": {
              "type": "string"
            },
            "text/plain": [
              "'DEF'"
            ]
          },
          "metadata": {},
          "execution_count": 11
        }
      ]
    },
    {
      "cell_type": "code",
      "source": [
        "A[3:] # 3부터 끝까지"
      ],
      "metadata": {
        "colab": {
          "base_uri": "https://localhost:8080/",
          "height": 37
        },
        "id": "vRP81AJBzTNx",
        "outputId": "80434333-91f8-4a1f-eb04-381f1ccdf050"
      },
      "execution_count": null,
      "outputs": [
        {
          "output_type": "execute_result",
          "data": {
            "application/vnd.google.colaboratory.intrinsic+json": {
              "type": "string"
            },
            "text/plain": [
              "'라마바사'"
            ]
          },
          "metadata": {},
          "execution_count": 12
        }
      ]
    },
    {
      "cell_type": "code",
      "source": [
        "A[:]  # 모든 것"
      ],
      "metadata": {
        "colab": {
          "base_uri": "https://localhost:8080/",
          "height": 37
        },
        "id": "K3pYIFWtzcAW",
        "outputId": "dae6402b-bf40-4f60-8153-75e83192c926"
      },
      "execution_count": null,
      "outputs": [
        {
          "output_type": "execute_result",
          "data": {
            "application/vnd.google.colaboratory.intrinsic+json": {
              "type": "string"
            },
            "text/plain": [
              "'가나다라마바사'"
            ]
          },
          "metadata": {},
          "execution_count": 13
        }
      ]
    },
    {
      "cell_type": "code",
      "source": [
        "A[:-6]"
      ],
      "metadata": {
        "colab": {
          "base_uri": "https://localhost:8080/",
          "height": 37
        },
        "id": "EeY6cwJ-zjYO",
        "outputId": "54ed70ad-f9cb-4fdb-87dd-bde1abd49bbf"
      },
      "execution_count": null,
      "outputs": [
        {
          "output_type": "execute_result",
          "data": {
            "application/vnd.google.colaboratory.intrinsic+json": {
              "type": "string"
            },
            "text/plain": [
              "'가나'"
            ]
          },
          "metadata": {},
          "execution_count": 20
        }
      ]
    },
    {
      "cell_type": "code",
      "source": [
        "A[-7]"
      ],
      "metadata": {
        "colab": {
          "base_uri": "https://localhost:8080/",
          "height": 37
        },
        "id": "4zgIGG_t1Ti2",
        "outputId": "7f302688-e51a-4c9c-897a-a695a9ce0d00"
      },
      "execution_count": null,
      "outputs": [
        {
          "output_type": "execute_result",
          "data": {
            "application/vnd.google.colaboratory.intrinsic+json": {
              "type": "string"
            },
            "text/plain": [
              "'나'"
            ]
          },
          "metadata": {},
          "execution_count": 21
        }
      ]
    },
    {
      "cell_type": "code",
      "source": [
        "# A * 3\n",
        "for i in range(3): print(A, end=\"\")"
      ],
      "metadata": {
        "colab": {
          "base_uri": "https://localhost:8080/"
        },
        "id": "4Gt8Qghi1tUp",
        "outputId": "ec1b2af1-abc9-47b0-d091-17deefa7b5f2"
      },
      "execution_count": null,
      "outputs": [
        {
          "output_type": "stream",
          "name": "stdout",
          "text": [
            "가나다라마바사아가나다라마바사아가나다라마바사아"
          ]
        }
      ]
    },
    {
      "cell_type": "markdown",
      "source": [
        "- 문자열 관련 함수\n",
        "- count (개수세기)"
      ],
      "metadata": {
        "id": "03Qbq-9d22fY"
      }
    },
    {
      "cell_type": "code",
      "source": [
        "a = \"Python is good language.\"\n",
        "print(a.count('o')) # 문자열 내에서의 'o'의 개수\n",
        "print(a.count('oo'))  # 문자열 내에서의 'oo'의 개수"
      ],
      "metadata": {
        "colab": {
          "base_uri": "https://localhost:8080/"
        },
        "id": "YgQQk7oT3FXu",
        "outputId": "44250594-a14b-4ea7-d515-8d8d8f0e555f"
      },
      "execution_count": null,
      "outputs": [
        {
          "output_type": "stream",
          "name": "stdout",
          "text": [
            "3\n",
            "1\n"
          ]
        }
      ]
    },
    {
      "cell_type": "markdown",
      "source": [
        "- 문자 위치 알려주기(find, index)"
      ],
      "metadata": {
        "id": "YBPa6tBR3hn3"
      }
    },
    {
      "cell_type": "code",
      "source": [
        "# find (지정한 문자의 index 반환, 없을 경우 -1 반환)\n",
        "print(a.find('o'))\n",
        "print(a.find('w'))"
      ],
      "metadata": {
        "colab": {
          "base_uri": "https://localhost:8080/"
        },
        "id": "ky-JcszA3mpR",
        "outputId": "5315a92e-c0d5-4b72-bf94-5b17c88842d9"
      },
      "execution_count": null,
      "outputs": [
        {
          "output_type": "stream",
          "name": "stdout",
          "text": [
            "4\n",
            "-1\n"
          ]
        }
      ]
    },
    {
      "cell_type": "code",
      "source": [
        "# index(지정한 문자의 index 반환. 없을 경우 error)\n",
        "print(a.index('o'))\n",
        "print(a.index('w'))"
      ],
      "metadata": {
        "colab": {
          "base_uri": "https://localhost:8080/",
          "height": 215
        },
        "id": "RpID2nFE4HC7",
        "outputId": "07ece7ef-dc51-4ecd-bc70-8cd61642ab8e"
      },
      "execution_count": null,
      "outputs": [
        {
          "output_type": "stream",
          "name": "stdout",
          "text": [
            "4\n"
          ]
        },
        {
          "output_type": "error",
          "ename": "ValueError",
          "evalue": "ignored",
          "traceback": [
            "\u001b[0;31m---------------------------------------------------------------------------\u001b[0m",
            "\u001b[0;31mValueError\u001b[0m                                Traceback (most recent call last)",
            "\u001b[0;32m<ipython-input-31-c6c31d03db37>\u001b[0m in \u001b[0;36m<module>\u001b[0;34m()\u001b[0m\n\u001b[1;32m      1\u001b[0m \u001b[0;31m# index(지정한 문자의 index 반환. 없을 경우 error)\u001b[0m\u001b[0;34m\u001b[0m\u001b[0;34m\u001b[0m\u001b[0;34m\u001b[0m\u001b[0m\n\u001b[1;32m      2\u001b[0m \u001b[0mprint\u001b[0m\u001b[0;34m(\u001b[0m\u001b[0ma\u001b[0m\u001b[0;34m.\u001b[0m\u001b[0mindex\u001b[0m\u001b[0;34m(\u001b[0m\u001b[0;34m'o'\u001b[0m\u001b[0;34m)\u001b[0m\u001b[0;34m)\u001b[0m\u001b[0;34m\u001b[0m\u001b[0;34m\u001b[0m\u001b[0m\n\u001b[0;32m----> 3\u001b[0;31m \u001b[0mprint\u001b[0m\u001b[0;34m(\u001b[0m\u001b[0ma\u001b[0m\u001b[0;34m.\u001b[0m\u001b[0mindex\u001b[0m\u001b[0;34m(\u001b[0m\u001b[0;34m'w'\u001b[0m\u001b[0;34m)\u001b[0m\u001b[0;34m)\u001b[0m\u001b[0;34m\u001b[0m\u001b[0;34m\u001b[0m\u001b[0m\n\u001b[0m",
            "\u001b[0;31mValueError\u001b[0m: substring not found"
          ]
        }
      ]
    },
    {
      "cell_type": "markdown",
      "source": [
        "- 문자열 삽입(join)"
      ],
      "metadata": {
        "id": "_m9Ck0iY8P5p"
      }
    },
    {
      "cell_type": "code",
      "source": [
        "print(\", \".join(A))"
      ],
      "metadata": {
        "colab": {
          "base_uri": "https://localhost:8080/"
        },
        "id": "rcsL_vWi8IJ0",
        "outputId": "f09167b2-3785-43f3-915e-3a68bfcf60e0"
      },
      "execution_count": null,
      "outputs": [
        {
          "output_type": "stream",
          "name": "stdout",
          "text": [
            "가, 나, 다, 라, 마, 바, 사, 아\n"
          ]
        }
      ]
    },
    {
      "cell_type": "code",
      "source": [
        "Alist = ['가', '나', '다', '라', '마', '바', '사']\n",
        "print(\", \".join(Alist))"
      ],
      "metadata": {
        "colab": {
          "base_uri": "https://localhost:8080/"
        },
        "id": "Y8l2a-_08Zq9",
        "outputId": "4097260c-8f61-40a9-e92f-1dfecd9f75fb"
      },
      "execution_count": null,
      "outputs": [
        {
          "output_type": "stream",
          "name": "stdout",
          "text": [
            "가, 나, 다, 라, 마, 바, 사\n"
          ]
        }
      ]
    },
    {
      "cell_type": "code",
      "source": [
        "Alist, type(Alist), type(Alist[0])"
      ],
      "metadata": {
        "colab": {
          "base_uri": "https://localhost:8080/"
        },
        "id": "FL7tKCAA8tUx",
        "outputId": "050f7887-21d1-4f45-dae8-b4e6123192ee"
      },
      "execution_count": null,
      "outputs": [
        {
          "output_type": "execute_result",
          "data": {
            "text/plain": [
              "(['가', '나', '다', '라', '마', '바', '사'], list, str)"
            ]
          },
          "metadata": {},
          "execution_count": 34
        }
      ]
    },
    {
      "cell_type": "code",
      "source": [
        "bList = [10, 20, '홍익대', -10, '공컴']\n",
        "bList[2:4]"
      ],
      "metadata": {
        "colab": {
          "base_uri": "https://localhost:8080/"
        },
        "id": "zHN7gbzG959W",
        "outputId": "041897c8-a30d-4839-9ffc-4bf93e872448"
      },
      "execution_count": null,
      "outputs": [
        {
          "output_type": "execute_result",
          "data": {
            "text/plain": [
              "['홍익대', -10]"
            ]
          },
          "metadata": {},
          "execution_count": 35
        }
      ]
    },
    {
      "cell_type": "markdown",
      "source": [
        "- 소문자 -> 대문자(upper)"
      ],
      "metadata": {
        "id": "Pu7j0Mpu-STL"
      }
    },
    {
      "cell_type": "code",
      "source": [
        "a = \"Python is good language.\"\n",
        "print(a.upper())"
      ],
      "metadata": {
        "colab": {
          "base_uri": "https://localhost:8080/"
        },
        "id": "nJ400dfq-VrH",
        "outputId": "f4b659f8-26f7-4990-c48a-acd63af5670c"
      },
      "execution_count": null,
      "outputs": [
        {
          "output_type": "stream",
          "name": "stdout",
          "text": [
            "PYTHON IS GOOD LANGUAGE.\n"
          ]
        }
      ]
    },
    {
      "cell_type": "markdown",
      "source": [
        "- 대문자 -> 소문자(lower)"
      ],
      "metadata": {
        "id": "ELtZaFGB-fTH"
      }
    },
    {
      "cell_type": "code",
      "source": [
        "print(a.lower())"
      ],
      "metadata": {
        "colab": {
          "base_uri": "https://localhost:8080/"
        },
        "id": "RwY6_qzU-jHT",
        "outputId": "7f8a1ec9-a41b-412a-93f7-3366646f4a74"
      },
      "execution_count": null,
      "outputs": [
        {
          "output_type": "stream",
          "name": "stdout",
          "text": [
            "python is good language.\n"
          ]
        }
      ]
    },
    {
      "cell_type": "markdown",
      "source": [
        "- 양쪽 공백 지우기 (strip)"
      ],
      "metadata": {
        "id": "ouxE6LmW-0G1"
      }
    },
    {
      "cell_type": "code",
      "source": [
        "aspace = \"                       Python is good language.                        \"\n",
        "print(aspace)\n",
        "print(aspace.strip())"
      ],
      "metadata": {
        "colab": {
          "base_uri": "https://localhost:8080/"
        },
        "id": "zAmNuycR_mvS",
        "outputId": "017dc136-5627-4d18-8992-8a3801eea18b"
      },
      "execution_count": null,
      "outputs": [
        {
          "output_type": "stream",
          "name": "stdout",
          "text": [
            "                       Python is good language.                        \n",
            "Python is good language.\n"
          ]
        }
      ]
    },
    {
      "cell_type": "markdown",
      "source": [
        "- 왼쪽 공백 지우기 (lstrip)"
      ],
      "metadata": {
        "id": "R-ch7ydPAVAy"
      }
    },
    {
      "cell_type": "code",
      "source": [
        "aspace.lstrip()"
      ],
      "metadata": {
        "colab": {
          "base_uri": "https://localhost:8080/",
          "height": 37
        },
        "id": "RqMJQcBaAYHw",
        "outputId": "39b34226-26f9-4792-d01e-83146e869b03"
      },
      "execution_count": null,
      "outputs": [
        {
          "output_type": "execute_result",
          "data": {
            "application/vnd.google.colaboratory.intrinsic+json": {
              "type": "string"
            },
            "text/plain": [
              "'Python is good language.                        '"
            ]
          },
          "metadata": {},
          "execution_count": 42
        }
      ]
    },
    {
      "cell_type": "markdown",
      "source": [
        "- 오른쪽 공백 지우기 (rstrip)"
      ],
      "metadata": {
        "id": "unMO5uD2Ad14"
      }
    },
    {
      "cell_type": "code",
      "source": [
        "aspace.rstrip()"
      ],
      "metadata": {
        "colab": {
          "base_uri": "https://localhost:8080/",
          "height": 37
        },
        "id": "QsZAURbuAgth",
        "outputId": "2374798f-c3a9-4647-9788-3adcab87384e"
      },
      "execution_count": null,
      "outputs": [
        {
          "output_type": "execute_result",
          "data": {
            "application/vnd.google.colaboratory.intrinsic+json": {
              "type": "string"
            },
            "text/plain": [
              "'                       Python is good language.'"
            ]
          },
          "metadata": {},
          "execution_count": 43
        }
      ]
    },
    {
      "cell_type": "markdown",
      "source": [
        "- 문자열 바꾸기(replace)"
      ],
      "metadata": {
        "id": "ymHxGC45A3S3"
      }
    },
    {
      "cell_type": "code",
      "source": [
        "changedA = a.replace(\"good\", \"bad\")\n",
        "print(changedA)"
      ],
      "metadata": {
        "colab": {
          "base_uri": "https://localhost:8080/"
        },
        "id": "SrnryVU3A8Bn",
        "outputId": "e1df5992-d8b3-4277-d52d-e53d9682e7bd"
      },
      "execution_count": null,
      "outputs": [
        {
          "output_type": "stream",
          "name": "stdout",
          "text": [
            "Python is bad language.\n"
          ]
        }
      ]
    },
    {
      "cell_type": "markdown",
      "source": [
        "- 문자열 나누기 (split)"
      ],
      "metadata": {
        "id": "SNpNn3vCBwsq"
      }
    },
    {
      "cell_type": "code",
      "source": [
        "a.split()"
      ],
      "metadata": {
        "colab": {
          "base_uri": "https://localhost:8080/"
        },
        "id": "3GPruEYNBzVb",
        "outputId": "9c1995fa-2f87-4eae-fbf9-b438e3787390"
      },
      "execution_count": null,
      "outputs": [
        {
          "output_type": "execute_result",
          "data": {
            "text/plain": [
              "['Python', 'is', 'good', 'language.']"
            ]
          },
          "metadata": {},
          "execution_count": 49
        }
      ]
    },
    {
      "cell_type": "code",
      "source": [
        "test = \"apple, bee,        peach,      grape,           banana\"\n",
        "fixtest = test.split(\",\")\n",
        "for i in range(0, 5):\n",
        "  print(fixtest[i].strip())"
      ],
      "metadata": {
        "colab": {
          "base_uri": "https://localhost:8080/"
        },
        "id": "_tF9mcCuCdQU",
        "outputId": "81b6748f-1559-4975-a8b8-29e192387a44"
      },
      "execution_count": null,
      "outputs": [
        {
          "output_type": "stream",
          "name": "stdout",
          "text": [
            "apple\n",
            "bee\n",
            "peach\n",
            "grape\n",
            "banana\n"
          ]
        }
      ]
    },
    {
      "cell_type": "code",
      "source": [
        "news = \"독일 출신 랄프 랑닉 임시 감독 체제에서 공식전 5승 3무를 기록하던 맨유는 무패 행진이 마감됐다. 승점 31(9승 4무 6패)로 리그 7위다. 맨유를 잡고 승점 3을 추가한 8위 울버햄튼은 승점 28(8승 4무 7패)이 됐다. 두 팀 간 승점은 3점 차로 좁혀졌다. 이날 경기에서 호날두는 맨유 주장 완장을 차고 나왔다. 영국 매체 익스프레스에 따르면, 주장 해리 맥과이어가 직전 경기인 번리전에서 부상을 당해 울버햄튼과 경기에 출전할 수 없었다. 랑닉 감독은 맥과이어의 주장 완장을 호날두에게 맡겼다. 올 시즌을 앞두고 이탈리아 세리에A 유벤투스에서 맨유로 이적한 호날두는 2008년 3월 볼튼과 경기 이후 약 14년 만에 맨유 주장을 맡았다. 하지만 경기력은 기대에 미치지 못했다. 슛 시도는 두 차례에 불과했다. 전반 34분에는 백패스 미스로 실점 위기를 자초하기도 했다. 경기 종료 후 축구 통계사이트 후스코어드닷컴은 호날두에게 평점 6.3점을 매겼다. 영국 매체 맨체스터이브닝뉴스는 호날두에게 평점 4점을 줬다. 맨유 선수 중 가장 낮은 평점이다.\"\n",
        "# 1) 뉴스 문구에서 '호날두'가 몇 번 언급되었는가?\n",
        "print(\"호날두 언급 횟수: \", news.count('호날두'))\n",
        "# 2) '호날두'를 본인 이름으로 변경해보자. 그 결과를 result 변수에서 저장하자.\n",
        "result = news.replace(\"호날두\", \"정하림\")\n",
        "print(\"변경 결과: \", result)\n",
        "# 3) result 변수의 값을 활용하여 마침표(.)를 기준으로 문장이라 보자. 그러면 총 몇 문장인가?\n",
        "sentence = result.split(\".\")\n",
        "print(len(sentence), \"문장\")\n",
        "# 4) 각 문장에는 띄어쓰기 기준으로 어절을 구분하자.\n",
        "result.split()"
      ],
      "metadata": {
        "id": "PbiIszJuICFV",
        "colab": {
          "base_uri": "https://localhost:8080/"
        },
        "outputId": "96d65946-e0fe-47a4-8b4c-e89959ce8d5e"
      },
      "execution_count": 13,
      "outputs": [
        {
          "output_type": "stream",
          "name": "stdout",
          "text": [
            "호날두 언급 횟수:  5\n",
            "변경 결과:  독일 출신 랄프 랑닉 임시 감독 체제에서 공식전 5승 3무를 기록하던 맨유는 무패 행진이 마감됐다. 승점 31(9승 4무 6패)로 리그 7위다. 맨유를 잡고 승점 3을 추가한 8위 울버햄튼은 승점 28(8승 4무 7패)이 됐다. 두 팀 간 승점은 3점 차로 좁혀졌다. 이날 경기에서 정하림는 맨유 주장 완장을 차고 나왔다. 영국 매체 익스프레스에 따르면, 주장 해리 맥과이어가 직전 경기인 번리전에서 부상을 당해 울버햄튼과 경기에 출전할 수 없었다. 랑닉 감독은 맥과이어의 주장 완장을 정하림에게 맡겼다. 올 시즌을 앞두고 이탈리아 세리에A 유벤투스에서 맨유로 이적한 정하림는 2008년 3월 볼튼과 경기 이후 약 14년 만에 맨유 주장을 맡았다. 하지만 경기력은 기대에 미치지 못했다. 슛 시도는 두 차례에 불과했다. 전반 34분에는 백패스 미스로 실점 위기를 자초하기도 했다. 경기 종료 후 축구 통계사이트 후스코어드닷컴은 정하림에게 평점 6.3점을 매겼다. 영국 매체 맨체스터이브닝뉴스는 정하림에게 평점 4점을 줬다. 맨유 선수 중 가장 낮은 평점이다.\n",
            "16 문장\n"
          ]
        },
        {
          "output_type": "execute_result",
          "data": {
            "text/plain": [
              "['독일',\n",
              " '출신',\n",
              " '랄프',\n",
              " '랑닉',\n",
              " '임시',\n",
              " '감독',\n",
              " '체제에서',\n",
              " '공식전',\n",
              " '5승',\n",
              " '3무를',\n",
              " '기록하던',\n",
              " '맨유는',\n",
              " '무패',\n",
              " '행진이',\n",
              " '마감됐다.',\n",
              " '승점',\n",
              " '31(9승',\n",
              " '4무',\n",
              " '6패)로',\n",
              " '리그',\n",
              " '7위다.',\n",
              " '맨유를',\n",
              " '잡고',\n",
              " '승점',\n",
              " '3을',\n",
              " '추가한',\n",
              " '8위',\n",
              " '울버햄튼은',\n",
              " '승점',\n",
              " '28(8승',\n",
              " '4무',\n",
              " '7패)이',\n",
              " '됐다.',\n",
              " '두',\n",
              " '팀',\n",
              " '간',\n",
              " '승점은',\n",
              " '3점',\n",
              " '차로',\n",
              " '좁혀졌다.',\n",
              " '이날',\n",
              " '경기에서',\n",
              " '정하림는',\n",
              " '맨유',\n",
              " '주장',\n",
              " '완장을',\n",
              " '차고',\n",
              " '나왔다.',\n",
              " '영국',\n",
              " '매체',\n",
              " '익스프레스에',\n",
              " '따르면,',\n",
              " '주장',\n",
              " '해리',\n",
              " '맥과이어가',\n",
              " '직전',\n",
              " '경기인',\n",
              " '번리전에서',\n",
              " '부상을',\n",
              " '당해',\n",
              " '울버햄튼과',\n",
              " '경기에',\n",
              " '출전할',\n",
              " '수',\n",
              " '없었다.',\n",
              " '랑닉',\n",
              " '감독은',\n",
              " '맥과이어의',\n",
              " '주장',\n",
              " '완장을',\n",
              " '정하림에게',\n",
              " '맡겼다.',\n",
              " '올',\n",
              " '시즌을',\n",
              " '앞두고',\n",
              " '이탈리아',\n",
              " '세리에A',\n",
              " '유벤투스에서',\n",
              " '맨유로',\n",
              " '이적한',\n",
              " '정하림는',\n",
              " '2008년',\n",
              " '3월',\n",
              " '볼튼과',\n",
              " '경기',\n",
              " '이후',\n",
              " '약',\n",
              " '14년',\n",
              " '만에',\n",
              " '맨유',\n",
              " '주장을',\n",
              " '맡았다.',\n",
              " '하지만',\n",
              " '경기력은',\n",
              " '기대에',\n",
              " '미치지',\n",
              " '못했다.',\n",
              " '슛',\n",
              " '시도는',\n",
              " '두',\n",
              " '차례에',\n",
              " '불과했다.',\n",
              " '전반',\n",
              " '34분에는',\n",
              " '백패스',\n",
              " '미스로',\n",
              " '실점',\n",
              " '위기를',\n",
              " '자초하기도',\n",
              " '했다.',\n",
              " '경기',\n",
              " '종료',\n",
              " '후',\n",
              " '축구',\n",
              " '통계사이트',\n",
              " '후스코어드닷컴은',\n",
              " '정하림에게',\n",
              " '평점',\n",
              " '6.3점을',\n",
              " '매겼다.',\n",
              " '영국',\n",
              " '매체',\n",
              " '맨체스터이브닝뉴스는',\n",
              " '정하림에게',\n",
              " '평점',\n",
              " '4점을',\n",
              " '줬다.',\n",
              " '맨유',\n",
              " '선수',\n",
              " '중',\n",
              " '가장',\n",
              " '낮은',\n",
              " '평점이다.']"
            ]
          },
          "metadata": {},
          "execution_count": 13
        }
      ]
    }
  ]
}