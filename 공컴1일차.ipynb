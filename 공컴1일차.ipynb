{
  "nbformat": 4,
  "nbformat_minor": 0,
  "metadata": {
    "colab": {
      "name": "파이썬 기초.ipynb",
      "provenance": [],
      "collapsed_sections": [],
      "authorship_tag": "ABX9TyMB/SDKH6rppqylzfe1j4zv",
      "include_colab_link": true
    },
    "kernelspec": {
      "name": "python3",
      "display_name": "Python 3"
    },
    "language_info": {
      "name": "python"
    }
  },
  "cells": [
    {
      "cell_type": "markdown",
      "metadata": {
        "id": "view-in-github",
        "colab_type": "text"
      },
      "source": [
        "<a href=\"https://colab.research.google.com/github/jeonghar1m/ITECT-Practice/blob/main/211227/%ED%8C%8C%EC%9D%B4%EC%8D%AC_%EA%B8%B0%EC%B4%88.ipynb\" target=\"_parent\"><img src=\"https://colab.research.google.com/assets/colab-badge.svg\" alt=\"Open In Colab\"/></a>"
      ]
    },
    {
      "cell_type": "markdown",
      "source": [
        "# 1일차"
      ],
      "metadata": {
        "id": "zaY5k2P2nk2A"
      }
    },
    {
      "cell_type": "code",
      "execution_count": 19,
      "metadata": {
        "id": "GYkYtYZmhGDK",
        "colab": {
          "base_uri": "https://localhost:8080/"
        },
        "outputId": "4cf97544-6164-4a47-eb9f-569f76515a23"
      },
      "outputs": [
        {
          "output_type": "stream",
          "name": "stdout",
          "text": [
            "결과 =  10\n"
          ]
        }
      ],
      "source": [
        "a = 10\n",
        "print(\"결과 = \", a)"
      ]
    },
    {
      "cell_type": "code",
      "source": [
        "import keyword\n",
        "keyword.kwlist"
      ],
      "metadata": {
        "colab": {
          "base_uri": "https://localhost:8080/"
        },
        "id": "oUi8l876xfC9",
        "outputId": "285657a1-2d3f-4ae5-e074-3200f831fdc0"
      },
      "execution_count": 20,
      "outputs": [
        {
          "output_type": "execute_result",
          "data": {
            "text/plain": [
              "['False',\n",
              " 'None',\n",
              " 'True',\n",
              " 'and',\n",
              " 'as',\n",
              " 'assert',\n",
              " 'async',\n",
              " 'await',\n",
              " 'break',\n",
              " 'class',\n",
              " 'continue',\n",
              " 'def',\n",
              " 'del',\n",
              " 'elif',\n",
              " 'else',\n",
              " 'except',\n",
              " 'finally',\n",
              " 'for',\n",
              " 'from',\n",
              " 'global',\n",
              " 'if',\n",
              " 'import',\n",
              " 'in',\n",
              " 'is',\n",
              " 'lambda',\n",
              " 'nonlocal',\n",
              " 'not',\n",
              " 'or',\n",
              " 'pass',\n",
              " 'raise',\n",
              " 'return',\n",
              " 'try',\n",
              " 'while',\n",
              " 'with',\n",
              " 'yield']"
            ]
          },
          "metadata": {},
          "execution_count": 20
        }
      ]
    },
    {
      "cell_type": "code",
      "source": [
        "b = 10\n",
        "false = 30"
      ],
      "metadata": {
        "id": "T3hJyYm9xy6O"
      },
      "execution_count": 21,
      "outputs": []
    },
    {
      "cell_type": "code",
      "source": [
        "# year = input(\"아무 값이나 입력하세요: \")\n",
        "# year = int(year)\n",
        "year = int(input(\"아무 값이나 입력하세요: \"))\n",
        "print(year + 20)"
      ],
      "metadata": {
        "colab": {
          "base_uri": "https://localhost:8080/"
        },
        "id": "QUMEBHolzxj6",
        "outputId": "ad917fa8-e308-4e56-93f3-2846752dc208"
      },
      "execution_count": 11,
      "outputs": [
        {
          "output_type": "stream",
          "name": "stdout",
          "text": [
            "아무 값이나 입력하세요: 2022\n",
            "2042\n"
          ]
        }
      ]
    },
    {
      "cell_type": "code",
      "source": [
        "height = float(input(\"키가 몇인가요? \"))\n",
        "height = int(height)\n",
        "weight = float(input(\"몸무게가 몇인가요? \"))\n",
        "print(height + weight)"
      ],
      "metadata": {
        "colab": {
          "base_uri": "https://localhost:8080/"
        },
        "id": "PGbFTHGB0ydS",
        "outputId": "b251df56-76ce-4ef3-a453-62d861ccdcd3"
      },
      "execution_count": 18,
      "outputs": [
        {
          "output_type": "stream",
          "name": "stdout",
          "text": [
            "키가 몇인가요? 173.2\n",
            "몸무게가 몇인가요? 69\n",
            "242.0\n"
          ]
        }
      ]
    },
    {
      "cell_type": "code",
      "source": [
        "a = 10.5\n",
        "b = 4.5\n",
        "type(a + b), a + b"
      ],
      "metadata": {
        "colab": {
          "base_uri": "https://localhost:8080/"
        },
        "id": "p8i6yar_5b6F",
        "outputId": "9e21a455-ddea-442f-c76b-284e6f4da7e6"
      },
      "execution_count": 17,
      "outputs": [
        {
          "output_type": "execute_result",
          "data": {
            "text/plain": [
              "(float, 15.0)"
            ]
          },
          "metadata": {},
          "execution_count": 17
        }
      ]
    }
  ]
}