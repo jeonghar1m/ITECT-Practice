{
  "nbformat": 4,
  "nbformat_minor": 0,
  "metadata": {
    "colab": {
      "name": "공컴14일차_함수",
      "provenance": [],
      "collapsed_sections": [],
      "authorship_tag": "ABX9TyNw5EfbkFlfaGMIzBChzl/k",
      "include_colab_link": true
    },
    "kernelspec": {
      "name": "python3",
      "display_name": "Python 3"
    },
    "language_info": {
      "name": "python"
    }
  },
  "cells": [
    {
      "cell_type": "markdown",
      "metadata": {
        "id": "view-in-github",
        "colab_type": "text"
      },
      "source": [
        "<a href=\"https://colab.research.google.com/github/jeonghar1m/ITECT-Practice/blob/main/%EA%B3%B5%EC%BB%B414%EC%9D%BC%EC%B0%A8_%ED%95%A8%EC%88%98.ipynb\" target=\"_parent\"><img src=\"https://colab.research.google.com/assets/colab-badge.svg\" alt=\"Open In Colab\"/></a>"
      ]
    },
    {
      "cell_type": "code",
      "execution_count": 4,
      "metadata": {
        "colab": {
          "base_uri": "https://localhost:8080/"
        },
        "id": "5yERPZLCTJVO",
        "outputId": "50f0f6a3-2157-4371-8034-c77faeb1f2ee"
      },
      "outputs": [
        {
          "output_type": "stream",
          "name": "stdout",
          "text": [
            "이름을 입력하세요: 정하림\n",
            "국어 성적을 입력하세요: 100\n",
            "수학 성적을 입력하세요: 100\n",
            "영어 성적을 입력하세요: 100\n",
            "=========================================================\n",
            "정하림 님의 성적은 (총점: 300.0), (평균: 100.0)입니다.\n",
            "학점은  A 입니다.\n"
          ]
        }
      ],
      "source": [
        "#함수 정의\n",
        "def hakjum(avg):\n",
        "  if avg>=90:\n",
        "    grade = 'A'\n",
        "  elif avg>=80:\n",
        "    grade = 'B'\n",
        "  elif avg>=70:\n",
        "    grade = 'C'\n",
        "  elif avg>=60:\n",
        "    grade = 'D'\n",
        "  else:\n",
        "    grade = 'F'\n",
        "  return grade\n",
        "\n",
        "name = input(\"이름을 입력하세요: \")\n",
        "kor = float(input('국어 성적을 입력하세요: '))\n",
        "math = float(input('수학 성적을 입력하세요: '))\n",
        "eng = float(input('영어 성적을 입력하세요: '))\n",
        "total = kor + math + eng\n",
        "avg = total / 3\n",
        "\n",
        "# 함수 호출\n",
        "print(\"=========================================================\")\n",
        "print(name, \"님의 성적은 (총점: {0:4.1f}), (평균: {1:3.1f})입니다.\".format(total, avg))\n",
        "print(\"학점은 \", hakjum(avg), \"입니다.\")"
      ]
    }
  ]
}