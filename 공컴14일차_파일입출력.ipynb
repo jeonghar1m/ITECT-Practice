{
  "nbformat": 4,
  "nbformat_minor": 0,
  "metadata": {
    "kernelspec": {
      "display_name": "Python 3",
      "language": "python",
      "name": "python3"
    },
    "language_info": {
      "codemirror_mode": {
        "name": "ipython",
        "version": 3
      },
      "file_extension": ".py",
      "mimetype": "text/x-python",
      "name": "python",
      "nbconvert_exporter": "python",
      "pygments_lexer": "ipython3",
      "version": "3.8.3"
    },
    "colab": {
      "name": "공컴14일차_파일입출력",
      "provenance": [],
      "collapsed_sections": [],
      "include_colab_link": true
    }
  },
  "cells": [
    {
      "cell_type": "markdown",
      "metadata": {
        "id": "view-in-github",
        "colab_type": "text"
      },
      "source": [
        "<a href=\"https://colab.research.google.com/github/jeonghar1m/ITECT-Practice/blob/main/%EA%B3%B5%EC%BB%B414%EC%9D%BC%EC%B0%A8_%ED%8C%8C%EC%9D%BC%EC%9E%85%EC%B6%9C%EB%A0%A5.ipynb\" target=\"_parent\"><img src=\"https://colab.research.google.com/assets/colab-badge.svg\" alt=\"Open In Colab\"/></a>"
      ]
    },
    {
      "cell_type": "markdown",
      "metadata": {
        "id": "RgO6Y0OYO7GS"
      },
      "source": [
        "# ※ 파일 입출력"
      ]
    },
    {
      "cell_type": "markdown",
      "metadata": {
        "id": "Mx9tZcmQO7GU"
      },
      "source": [
        "### 1. 파일 생성하기, open(파일 이름,파일 열기 모드)  \n",
        "#####       f = open(\"test.txt\", \"w\")\n",
        "#####       f.close()"
      ]
    },
    {
      "cell_type": "code",
      "metadata": {
        "id": "PkSHBCwNO7GV"
      },
      "source": [
        "# 파일 생성하기\n",
        "f = open(\"test.txt\", \"w\")\n",
        "f.close()"
      ],
      "execution_count": null,
      "outputs": []
    },
    {
      "cell_type": "markdown",
      "metadata": {
        "id": "ZAPz7EGLO7GW"
      },
      "source": [
        "#### *파일 열기 모드  \n",
        "\n",
        "- r (read) : 파일을 읽을 목적으로 생성 (예: f = open(\"test.txt\", \"r\")\n",
        "- w (write) : 파일에 내용을 작성할 목적으로 생성 (예: f = open(\"test.txt\", \"w\")\n",
        "- a (append) : 파일의 마지막에 새로운 내용을 추가 할 때 사용 (예: f = open(\"test.txt\", \"a\")"
      ]
    },
    {
      "cell_type": "markdown",
      "metadata": {
        "id": "QpP0xesgO7GX"
      },
      "source": [
        "### 2. 파일에 내용 쓰기\n",
        "\n",
        "1) test.txt로 파일명을 사용하여 파일 오픈  \n",
        "2) 쓰기모드  \n",
        "3) 1~10까지 행단위로 쓰기  \n",
        "4) 파일 닫기  \n",
        "↓↓↓ 코드 작성 ↓↓↓"
      ]
    },
    {
      "cell_type": "code",
      "metadata": {
        "scrolled": true,
        "id": "QGvwS4usO7GX"
      },
      "source": [
        "file = open(\"test.txt\", \"w\", encoding=\"UTF-8\")\n",
        "for i in range(1, 11):\n",
        "  # file.write(\"%d\\n\"%i)\n",
        "  file.write(\"{}\\n\".format(i))\n",
        "file.close()"
      ],
      "execution_count": 10,
      "outputs": []
    },
    {
      "cell_type": "markdown",
      "metadata": {
        "id": "fJMNNUV1O7GY"
      },
      "source": [
        "#### *파일 접근 방법  \n",
        "- 상대경로 : ( 예: ./test.txt, test.txt, ../test.txt )\n",
        "- 절대경로 : ( 예: C:\\DEV\\python-workspace\\2020_Korea\\test.txt, C:\\DEV\\python-workspace\\test.txt  )"
      ]
    },
    {
      "cell_type": "markdown",
      "metadata": {
        "id": "Nw144iwWO7GZ"
      },
      "source": [
        "### 3. 파일 읽기\n",
        "▼ 한 줄 읽기, readline()"
      ]
    },
    {
      "cell_type": "code",
      "metadata": {
        "scrolled": true,
        "id": "xcmnAcHkO7GZ",
        "colab": {
          "base_uri": "https://localhost:8080/"
        },
        "outputId": "96e09168-9eda-4ae0-94cb-2458b1cd80a2"
      },
      "source": [
        "file = open(\"test.txt\", \"r\", encoding=\"UTF-8\")\n",
        "line = file.readline()\n",
        "print(line)\n",
        "file.close()"
      ],
      "execution_count": 14,
      "outputs": [
        {
          "output_type": "stream",
          "name": "stdout",
          "text": [
            "1\n",
            "\n"
          ]
        }
      ]
    },
    {
      "cell_type": "markdown",
      "metadata": {
        "id": "KJKSY9UEO7Ga"
      },
      "source": [
        "▼ 전체 읽기: read() 함수로 읽기\n",
        "\n",
        "file = open(\"../test.txt\", \"r\", encoding=\"UTF-8\")\n",
        "\n",
        "print(file.read())\n",
        "\n",
        "file.close()"
      ]
    },
    {
      "cell_type": "code",
      "metadata": {
        "id": "D5qfRcZKO7Gb",
        "colab": {
          "base_uri": "https://localhost:8080/"
        },
        "outputId": "d8a5b6ca-61dc-499b-a7ec-85781d7ce17d"
      },
      "source": [
        "file = open(\"test.txt\", \"r\", encoding=\"UTF-8\")\n",
        "print(file.read())\n",
        "file.close()"
      ],
      "execution_count": 16,
      "outputs": [
        {
          "output_type": "stream",
          "name": "stdout",
          "text": [
            "1\n",
            "2\n",
            "3\n",
            "4\n",
            "5\n",
            "6\n",
            "7\n",
            "8\n",
            "9\n",
            "10\n",
            "\n"
          ]
        }
      ]
    },
    {
      "cell_type": "markdown",
      "metadata": {
        "id": "K7LdQSGqO7Gb"
      },
      "source": [
        "▼ 모든 줄 읽기, readline() + 반복문 사용\n",
        "\n",
        "file = open(\"../test.txt\", \"r\", encoding='UTF-8')\n",
        "\n",
        "while True:\n",
        "\n",
        "    line = file.readline()\n",
        "    if not line: \n",
        "        break\n",
        "    print(line)\n",
        "    \n",
        "file.close()"
      ]
    },
    {
      "cell_type": "code",
      "metadata": {
        "id": "42BKii8ZO7Gb",
        "colab": {
          "base_uri": "https://localhost:8080/"
        },
        "outputId": "ab068c1f-7d36-478d-84a5-f8edd98d5292"
      },
      "source": [
        "file = open(\"test.txt\", \"r\", encoding='UTF-8')\n",
        "\n",
        "while True:\n",
        "  line = file.readline()\n",
        "  if not line: \n",
        "      break\n",
        "  print(line, end=\"\")\n",
        "file.close()"
      ],
      "execution_count": 18,
      "outputs": [
        {
          "output_type": "stream",
          "name": "stdout",
          "text": [
            "1\n",
            "2\n",
            "3\n",
            "4\n",
            "5\n",
            "6\n",
            "7\n",
            "8\n",
            "9\n",
            "10\n"
          ]
        }
      ]
    },
    {
      "cell_type": "markdown",
      "metadata": {
        "id": "Q_yYufxCO7Gb"
      },
      "source": [
        "▼ readlines() 사용하기\n",
        "- 모든 라인을 읽어서 list 생성\n",
        "\n",
        "    file = open(\"./새파일.txt\", 'r')\n",
        "\n",
        "    lines = file.readlines()\n",
        "\n",
        "    for line in lines:\n",
        "        print(line)\n",
        "        \n",
        "    file.close()"
      ]
    },
    {
      "cell_type": "code",
      "metadata": {
        "scrolled": true,
        "id": "8yV24NgIO7Gc",
        "colab": {
          "base_uri": "https://localhost:8080/"
        },
        "outputId": "2ff92e21-57ee-4d8d-8310-0e06bdd4e3be"
      },
      "source": [
        "file = open(\"test.txt\", 'r')\n",
        "lines = file.readlines()\n",
        "for line in lines:\n",
        "  print(line, end=\"\")\n",
        "file.close()"
      ],
      "execution_count": 20,
      "outputs": [
        {
          "output_type": "stream",
          "name": "stdout",
          "text": [
            "1\n",
            "2\n",
            "3\n",
            "4\n",
            "5\n",
            "6\n",
            "7\n",
            "8\n",
            "9\n",
            "10\n"
          ]
        }
      ]
    },
    {
      "cell_type": "markdown",
      "metadata": {
        "id": "LR87TawpO7Gc"
      },
      "source": [
        "### 4. 기존 파일에 새로운 내용 추가하기\n",
        "- 쓰기 모드 ('w')의 경우, 존재하는 파일에 내용이 있다면 모두 지우고 새롭게 쓴다. 기존 내용이 모두 제거됨.\n",
        "- 추가 쓰기 모드 ('a')의 경우, 기존 파일의 끝 부분에 내용 추가하여 쓰기\n",
        "\n",
        "file = open(\"test.txt\", \"a\", encoding=\"UTF-8\")\n",
        "\n",
        "\n",
        "for i in range(11, 20) :\n",
        "\n",
        "    content = \"{}\\n\" .format(i)\n",
        "    \n",
        "    file.write(content)\n",
        "    \n",
        "    \n",
        "    \n",
        "file.close()"
      ]
    },
    {
      "cell_type": "code",
      "metadata": {
        "id": "KrHbhWG4O7Gd"
      },
      "source": [
        "file = open(\"test.txt\", \"a\", encoding=\"UTF-8\")\n",
        "\n",
        "for i in range(11, 20) :\n",
        "  content = \"{}\\n\" .format(i)\n",
        "  file.write(content)\n",
        "file.close()"
      ],
      "execution_count": 23,
      "outputs": []
    },
    {
      "cell_type": "markdown",
      "metadata": {
        "id": "ZWc9c3iCO7Gd"
      },
      "source": [
        "##### *with 문장을 사용하여 파일 읽고, 쓰기\n",
        "\n",
        "- with로 처리된 block을 벗어나는 순간 파일 객체가 자동으로 close 됨."
      ]
    },
    {
      "cell_type": "code",
      "metadata": {
        "id": "bit8DcacO7Gd"
      },
      "source": [
        "# file = open(\"test2.txt\", \"w\", encoding=\"UTF-8\") 와 같다.\n",
        "with open(\"test2.txt\", \"w\", encoding=\"UTF-8\") as file:\n",
        "  file.write(\"Hello!!\\n\")\n",
        "  for i in range(2022, 2031):\n",
        "    file.write(\"{}\\n\".format(i))\n",
        "  file.close()"
      ],
      "execution_count": 25,
      "outputs": []
    }
  ]
}