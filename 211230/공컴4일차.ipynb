{
  "nbformat": 4,
  "nbformat_minor": 0,
  "metadata": {
    "colab": {
      "name": "공컴4일차.ipynb",
      "provenance": [],
      "collapsed_sections": [],
      "authorship_tag": "ABX9TyPN5+8CGimaC2CPb0Rn6pHC",
      "include_colab_link": true
    },
    "kernelspec": {
      "name": "python3",
      "display_name": "Python 3"
    },
    "language_info": {
      "name": "python"
    }
  },
  "cells": [
    {
      "cell_type": "markdown",
      "metadata": {
        "id": "view-in-github",
        "colab_type": "text"
      },
      "source": [
        "<a href=\"https://colab.research.google.com/github/jeonghar1m/ITECT-Practice/blob/main/211230/%EA%B3%B5%EC%BB%B44%EC%9D%BC%EC%B0%A8.ipynb\" target=\"_parent\"><img src=\"https://colab.research.google.com/assets/colab-badge.svg\" alt=\"Open In Colab\"/></a>"
      ]
    },
    {
      "cell_type": "code",
      "execution_count": 2,
      "metadata": {
        "colab": {
          "base_uri": "https://localhost:8080/"
        },
        "id": "QB98HalJ5Zof",
        "outputId": "9ab68cc5-0c38-4ad1-b0c7-d074dc9b7149"
      },
      "outputs": [
        {
          "output_type": "stream",
          "name": "stdout",
          "text": [
            "정수를 입력하세요: 50\n",
            "양수입니다.\n",
            "짝수입니다.\n"
          ]
        }
      ],
      "source": [
        "number = int(input(\"정수를 입력하세요: \"))\n",
        "if number > 0:\n",
        "  print(\"양수입니다.\")\n",
        "  if number % 2 == 0:\n",
        "    print(\"짝수입니다.\")\n",
        "  else:\n",
        "    print(\"홀수입니다.\")\n",
        "else:\n",
        "  print(\"음수입니다.\")"
      ]
    },
    {
      "cell_type": "code",
      "source": [
        "number = int(input(\"정수를 입력하세요: \"))\n",
        "print(\"짝수\" if number % 2 == 0 else \"홀수\")"
      ],
      "metadata": {
        "colab": {
          "base_uri": "https://localhost:8080/"
        },
        "id": "VJZTEEyGChD3",
        "outputId": "17b56c9e-d7a9-4552-9edc-005540478240"
      },
      "execution_count": 5,
      "outputs": [
        {
          "output_type": "stream",
          "name": "stdout",
          "text": [
            "정수를 입력하세요: 5\n",
            "홀수\n"
          ]
        }
      ]
    },
    {
      "cell_type": "code",
      "source": [
        "num1 = int(input(\"첫 번째 숫자 입력: \"))\n",
        "num2 = int(input(\"두 번째 숫자 입력: \"))\n",
        "num3 = int(input(\"세 번째 숫자 입력: \"))\n",
        "max = 0\n",
        "min = 0\n",
        "\n",
        "if num1 >= num2 and num1 >= num3:\n",
        "  max = num1\n",
        "elif num2 >= num1 and num2 >= num3:\n",
        "  max = num2\n",
        "else:\n",
        "  max = num3\n",
        "\n",
        "if num1 <= num2 and num1 <= num3:\n",
        "  min = num1\n",
        "elif num2 <= num1 and num2 <= num3:\n",
        "  min = num2\n",
        "else:\n",
        "  min = num3\n",
        "\n",
        "print(\"max = \", max)\n",
        "print(\"min = \", min)"
      ],
      "metadata": {
        "colab": {
          "base_uri": "https://localhost:8080/"
        },
        "id": "fVU09PBj71Q8",
        "outputId": "cd1cdf74-22d7-4e41-f31d-fab9e14bf5b3"
      },
      "execution_count": 3,
      "outputs": [
        {
          "output_type": "stream",
          "name": "stdout",
          "text": [
            "첫 번째 숫자 입력: 2\n",
            "두 번째 숫자 입력: 5\n",
            "세 번째 숫자 입력: 3\n",
            "max =  5\n",
            "min =  2\n"
          ]
        }
      ]
    },
    {
      "cell_type": "code",
      "source": [
        "num1 = int(input(\"첫 번째 숫자 입력: \"))\n",
        "num2 = int(input(\"두 번째 숫자 입력: \"))\n",
        "num3 = int(input(\"세 번째 숫자 입력: \"))\n",
        "\n",
        "max = num1 if num1 > num2 else num2\n",
        "max = num3 if num3 > max else max\n",
        "\n",
        "min = num1 if num1 < num2 else num2\n",
        "min = num3 if num3 < min else min\n",
        "\n",
        "print(\"max = \", max)\n",
        "print(\"min = \", min)"
      ],
      "metadata": {
        "colab": {
          "base_uri": "https://localhost:8080/"
        },
        "id": "77-MoepLBMLo",
        "outputId": "c949f628-6ca4-4721-a8f2-e5f74f7ab4bf"
      },
      "execution_count": 4,
      "outputs": [
        {
          "output_type": "stream",
          "name": "stdout",
          "text": [
            "첫 번째 숫자 입력: 5\n",
            "두 번째 숫자 입력: 2\n",
            "세 번째 숫자 입력: 3\n",
            "max =  5\n",
            "min =  2\n"
          ]
        }
      ]
    },
    {
      "cell_type": "code",
      "source": [
        "hundredmeter = float(input(\"100m 기록(초): \"))\n",
        "kilometer = float(input(\"1000m 기록(초): \"))\n",
        "witmom = int(input(\"윗몸일으키기 기록(회): \"))\n",
        "akryeok = float(input(\"좌우 악력 기록(kg): \"))\n",
        "palgub = int(input(\"팔굽혀펴기 기록(회): \"))\n",
        "\n",
        "print(\"합격 가능성이 높습니다.\" if (hundredmeter <= 13.6 and kilometer <= 237 and witmom >= 51 and akryeok >= 56 and palgub >= 46) else \"합격 가능성이 낮습니다.\")"
      ],
      "metadata": {
        "colab": {
          "base_uri": "https://localhost:8080/"
        },
        "id": "U9sDCGiCFGd_",
        "outputId": "ab721c36-c912-4acf-a80d-239685ed54f3"
      },
      "execution_count": 10,
      "outputs": [
        {
          "output_type": "stream",
          "name": "stdout",
          "text": [
            "100m 기록(초): 13.8\n",
            "1000m 기록(초): 239\n",
            "윗몸일으키기 기록(회): 52\n",
            "좌우 악력 기록(kg): 56\n",
            "팔굽혀펴기 기록(회): 56\n",
            "합격 가능성이 낮습니다.\n"
          ]
        }
      ]
    },
    {
      "cell_type": "code",
      "source": [
        "name = input(\"이름을 입력하세요: \")\n",
        "height = float(input(\"키(cm)을 입력하세요: \"))\n",
        "weight = float(input(\"몸무게(kg)를 입력하세요: \"))\n",
        "\n",
        "bmi = (weight / ((height / 100) ** 2))\n",
        "bmiStandard = \"\"\n",
        "\n",
        "if bmi >= 18.5 and bmi <= 22.9: bmiStandard = \"정상\"\n",
        "elif bmi <= 24.9: bmiStandard = \"과체중\"\n",
        "elif bmi <= 29.9: bmiStandard = \"비만\"\n",
        "elif bmi >= 30: bmiStandard = \"고도비만\"\n",
        "else: bmiStandard = \"저체중\"\n",
        "\n",
        "print(name, \"님의 키는 \", height, \"cm이고 몸무게는 \", weight, \"kg 입니다.\")\n",
        "print(\"BMI 지수는 \", round(bmi, 2), \"입니다. \", bmiStandard, \"입니다.\")"
      ],
      "metadata": {
        "colab": {
          "base_uri": "https://localhost:8080/"
        },
        "id": "5gUBERmbIi8S",
        "outputId": "b1f7cf28-8077-4a72-f3ea-4c48215d4c3d"
      },
      "execution_count": 19,
      "outputs": [
        {
          "output_type": "stream",
          "name": "stdout",
          "text": [
            "이름을 입력하세요: 정하림\n",
            "키(cm)을 입력하세요: 173.2\n",
            "몸무게(kg)를 입력하세요: 68\n",
            "정하림 님의 키는  173.2 cm이고 몸무게는  68.0 kg 입니다.\n",
            "BMI 지수는  22.67 입니다.  정상 입니다.\n"
          ]
        }
      ]
    },
    {
      "cell_type": "code",
      "source": [
        "num = int(input(\"숫자를 입력하세요: \"))\n",
        "\n",
        "if(num >= 0 and num < 10): print(\"한 자릿수\")\n",
        "elif(num >= 10 and num < 100): print(\"두 자릿수\")\n",
        "elif(num >= 100 and num < 1000): print(\"세 자릿수\")\n",
        "elif(num >= 1000): print(\"세 자릿수 이상\")\n",
        "else: print(\"Error\")"
      ],
      "metadata": {
        "colab": {
          "base_uri": "https://localhost:8080/"
        },
        "id": "U1lg0IPYSKq9",
        "outputId": "e0d9619c-ec86-4842-c3f1-521f0718c7e4"
      },
      "execution_count": 27,
      "outputs": [
        {
          "output_type": "stream",
          "name": "stdout",
          "text": [
            "숫자를 입력하세요: 100\n",
            "세 자릿수\n"
          ]
        }
      ]
    },
    {
      "cell_type": "code",
      "source": [
        "id = int(input(\"주민등록번호(-빼고): \"))\n",
        "area = (id // 10000) % 100\n",
        "print(\"지역: \", area)\n",
        "if 0 <= area <= 8: result = \"서울\"\n",
        "elif area <= 12: result = \"부산\"\n",
        "elif area <= 15: result = \"인천\"\n",
        "elif area <= 25: result = \"경기\"\n",
        "elif area <= 34: result = \"강원\"\n",
        "elif area <= 47: result = \"충청\"\n",
        "elif area <= 66: result = \"전라\"\n",
        "elif area <= 91: result = \"경상\"\n",
        "elif area <= 95: result = \"제주\"\n",
        "else: result = \"잘못된 주소 번호\"\n",
        "\n",
        "print(result)"
      ],
      "metadata": {
        "colab": {
          "base_uri": "https://localhost:8080/"
        },
        "id": "Q8SQjV5LV3Wr",
        "outputId": "49f09a28-6e65-4183-8816-9c9a251c97e3"
      },
      "execution_count": 40,
      "outputs": [
        {
          "output_type": "stream",
          "name": "stdout",
          "text": [
            "주민등록번호(-빼고): 0202011550678\n",
            "지역:  55\n",
            "전라\n"
          ]
        }
      ]
    }
  ]
}